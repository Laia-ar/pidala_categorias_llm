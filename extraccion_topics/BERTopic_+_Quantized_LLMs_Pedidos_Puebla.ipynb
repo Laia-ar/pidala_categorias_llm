{
 "cells": [
  {
   "cell_type": "markdown",
   "metadata": {},
   "source": [
    "Basado en [https://www.williampnicholson.com/topic-modelling/](https://www.williampnicholson.com/topic-modelling/)"
   ]
  },
  {
   "cell_type": "markdown",
   "metadata": {},
   "source": [
    "Embeddings"
   ]
  },
  {
   "cell_type": "code",
   "execution_count": 19,
   "metadata": {},
   "outputs": [],
   "source": [
    "from datasets import load_dataset\n",
    "import unidecode\n",
    "dataset = load_dataset(\"csv\",data_files=\"./preguntas_pnt_puebla_adjuntos.csv\")\n",
    "stopwords = [\"puebla\", \"adjunto\", \"adjuntos\", \"adjunta\", \"adjuntas\", \"puebla,\", \"puebla.\", \"puebla:\",\n",
    "             \"puebla?\",\"de\", \"la\", \"en\", \"el\", \"que\", \"del\", \"los\", \"por\", \"se\",\n",
    "             \"las\", \"con\", \"para\", \"al\", \"como\", \"su\", \"png\", \"lo\", \"no\", \"copia\", \"solicito\",\n",
    "             \"es\", \"me\", \"si\"]\n",
    "\n",
    "def remove_words(input_string, words_to_remove):\n",
    "    # Split the input string into a list of words\n",
    "    input_string = unidecode.unidecode(input_string).lower()\n",
    "    words = input_string.split()\n",
    "    \n",
    "    # Use a list comprehension to filter out the words to remove\n",
    "    filtered_words = [word for word in words if word.lower() not in words_to_remove]\n",
    "    \n",
    "    # Join the filtered words back into a single string\n",
    "    result_string = ' '.join(filtered_words)\n",
    "    \n",
    "    return result_string\n",
    "docs_descripcion = dataset[\"train\"][\"descripcion\"]\n",
    "docs_adjuntos = dataset[\"train\"][\"adjuntos_solicitud.contenido\"]\n",
    "\n",
    "docs = []\n",
    "for i,desc in enumerate(docs_descripcion):\n",
    "  if (len(docs_adjuntos[i]) > 1):\n",
    "    d = desc + \" Adjunto: \" + docs_adjuntos[i]\n",
    "    d = remove_words(d, stopwords)\n",
    "    docs.append(d[:7000])\n",
    "  else:\n",
    "    d = remove_words(desc, stopwords)\n",
    "    docs.append(d[:7000])"
   ]
  },
  {
   "cell_type": "code",
   "execution_count": 20,
   "metadata": {},
   "outputs": [],
   "source": [
    "from sentence_transformers import SentenceTransformer\n",
    "embedding_model = SentenceTransformer(\"hiiamsid/sentence_similarity_spanish_es\") # distiluse-base-multilingual-cased hiiamsid/sentence_similarity_spanish_es all-mpnet-base-v2\n",
    "embeddings = embedding_model.encode(docs)"
   ]
  },
  {
   "cell_type": "markdown",
   "metadata": {},
   "source": [
    "Dimensionality reduction"
   ]
  },
  {
   "cell_type": "code",
   "execution_count": 21,
   "metadata": {
    "jp-MarkdownHeadingCollapsed": true,
    "vscode": {
     "languageId": "plaintext"
    }
   },
   "outputs": [],
   "source": [
    "from umap import UMAP\n",
    "\n",
    "umap_model = UMAP(\n",
    "    # The size of local neighborhood (in terms of number of neighboring sample points) used for\n",
    "    # manifold approximation.\n",
    "    # Larger values result in more global views of the manifold, while smaller values result in\n",
    "    # more local data being preserved. In general values should be in the range 2 to 100.\n",
    "    n_neighbors=15,\n",
    "\n",
    "    # The dimension of the space to embed into.\n",
    "    # This defaults to 2 to provide easy visualization, but can reasonably be set to any\n",
    "    # integer value in the range 2 to 100.\n",
    "    n_components=5,\n",
    "\n",
    "    min_dist=0.0,\n",
    "    metric='cosine',\n",
    "    random_state=42  # For reproducibility - to prevent stochastic behaviour of UMAP.\n",
    ")"
   ]
  },
  {
   "cell_type": "markdown",
   "metadata": {},
   "source": [
    "Clustering"
   ]
  },
  {
   "cell_type": "code",
   "execution_count": 22,
   "metadata": {},
   "outputs": [],
   "source": [
    "from hdbscan import HDBSCAN\n",
    "\n",
    "hdbscan_model = HDBSCAN(\n",
    "    # Control the number of topics with this parameter.\n",
    "    # The minimum size of clusters; single linkage splits that contain fewer points than\n",
    "    # this will be considered points \"falling out\" of a cluster rather than a cluster splitting\n",
    "    # into two new clusters.\n",
    "    min_cluster_size=49,\n",
    "\n",
    "    metric='euclidean',\n",
    "    cluster_selection_method='eom',\n",
    "    prediction_data=True\n",
    ")"
   ]
  },
  {
   "cell_type": "markdown",
   "metadata": {},
   "source": [
    "Tokenization"
   ]
  },
  {
   "cell_type": "code",
   "execution_count": 23,
   "metadata": {},
   "outputs": [],
   "source": [
    "from sklearn.feature_extraction.text import CountVectorizer\n",
    "\n",
    "vectorizer_model = CountVectorizer(\n",
    "    ngram_range=(1, 6),\n",
    "    # stop_words=spacy_stop_words,\n",
    "    analyzer=\"word\",\n",
    "\n",
    "    # Ignore terms that have a document frequency strictly lower than the given threshold.\n",
    "    min_df=1,\n",
    ")"
   ]
  },
  {
   "cell_type": "markdown",
   "metadata": {},
   "source": [
    "Weighting scheme"
   ]
  },
  {
   "cell_type": "code",
   "execution_count": 24,
   "metadata": {},
   "outputs": [],
   "source": [
    "from bertopic.vectorizers import ClassTfidfTransformer\n",
    "\n",
    "# We can choose any number of seed words for which we want their representation\n",
    "# to be strengthen. We increase the importance of these words as we want them to be more\n",
    "# likely to end up in the topic representations.\n",
    "ctfidf_model = ClassTfidfTransformer(\n",
    "    # seed_words=domain_specific_terms,\n",
    "    seed_multiplier=2\n",
    ")"
   ]
  },
  {
   "cell_type": "markdown",
   "metadata": {},
   "source": [
    "Representation tuning"
   ]
  },
  {
   "cell_type": "code",
   "execution_count": 25,
   "metadata": {},
   "outputs": [],
   "source": [
    "#!python3 -m spacy download es_dep_news_trf"
   ]
  },
  {
   "cell_type": "code",
   "execution_count": 26,
   "metadata": {},
   "outputs": [
    {
     "name": "stderr",
     "output_type": "stream",
     "text": [
      "llama_model_loader: loaded meta data with 20 key-value pairs and 291 tensors from llms/openhermes-2.5-mistral-7b.Q4_K_M.gguf (version GGUF V3 (latest))\n",
      "llama_model_loader: Dumping metadata keys/values. Note: KV overrides do not apply in this output.\n",
      "llama_model_loader: - kv   0:                       general.architecture str              = llama\n",
      "llama_model_loader: - kv   1:                               general.name str              = teknium_openhermes-2.5-mistral-7b\n",
      "llama_model_loader: - kv   2:                       llama.context_length u32              = 32768\n",
      "llama_model_loader: - kv   3:                     llama.embedding_length u32              = 4096\n",
      "llama_model_loader: - kv   4:                          llama.block_count u32              = 32\n",
      "llama_model_loader: - kv   5:                  llama.feed_forward_length u32              = 14336\n",
      "llama_model_loader: - kv   6:                 llama.rope.dimension_count u32              = 128\n",
      "llama_model_loader: - kv   7:                 llama.attention.head_count u32              = 32\n",
      "llama_model_loader: - kv   8:              llama.attention.head_count_kv u32              = 8\n",
      "llama_model_loader: - kv   9:     llama.attention.layer_norm_rms_epsilon f32              = 0.000010\n",
      "llama_model_loader: - kv  10:                       llama.rope.freq_base f32              = 10000.000000\n",
      "llama_model_loader: - kv  11:                          general.file_type u32              = 15\n",
      "llama_model_loader: - kv  12:                       tokenizer.ggml.model str              = llama\n",
      "llama_model_loader: - kv  13:                      tokenizer.ggml.tokens arr[str,32002]   = [\"<unk>\", \"<s>\", \"</s>\", \"<0x00>\", \"<...\n",
      "llama_model_loader: - kv  14:                      tokenizer.ggml.scores arr[f32,32002]   = [0.000000, 0.000000, 0.000000, 0.0000...\n",
      "llama_model_loader: - kv  15:                  tokenizer.ggml.token_type arr[i32,32002]   = [2, 3, 3, 6, 6, 6, 6, 6, 6, 6, 6, 6, ...\n",
      "llama_model_loader: - kv  16:                tokenizer.ggml.bos_token_id u32              = 1\n",
      "llama_model_loader: - kv  17:                tokenizer.ggml.eos_token_id u32              = 32000\n",
      "llama_model_loader: - kv  18:            tokenizer.ggml.padding_token_id u32              = 0\n",
      "llama_model_loader: - kv  19:               general.quantization_version u32              = 2\n",
      "llama_model_loader: - type  f32:   65 tensors\n",
      "llama_model_loader: - type q4_K:  193 tensors\n",
      "llama_model_loader: - type q6_K:   33 tensors\n",
      "llm_load_vocab: special tokens definition check successful ( 261/32002 ).\n",
      "llm_load_print_meta: format           = GGUF V3 (latest)\n",
      "llm_load_print_meta: arch             = llama\n",
      "llm_load_print_meta: vocab type       = SPM\n",
      "llm_load_print_meta: n_vocab          = 32002\n",
      "llm_load_print_meta: n_merges         = 0\n",
      "llm_load_print_meta: n_ctx_train      = 32768\n",
      "llm_load_print_meta: n_embd           = 4096\n",
      "llm_load_print_meta: n_head           = 32\n",
      "llm_load_print_meta: n_head_kv        = 8\n",
      "llm_load_print_meta: n_layer          = 32\n",
      "llm_load_print_meta: n_rot            = 128\n",
      "llm_load_print_meta: n_embd_head_k    = 128\n",
      "llm_load_print_meta: n_embd_head_v    = 128\n",
      "llm_load_print_meta: n_gqa            = 4\n",
      "llm_load_print_meta: n_embd_k_gqa     = 1024\n",
      "llm_load_print_meta: n_embd_v_gqa     = 1024\n",
      "llm_load_print_meta: f_norm_eps       = 0.0e+00\n",
      "llm_load_print_meta: f_norm_rms_eps   = 1.0e-05\n",
      "llm_load_print_meta: f_clamp_kqv      = 0.0e+00\n",
      "llm_load_print_meta: f_max_alibi_bias = 0.0e+00\n",
      "llm_load_print_meta: f_logit_scale    = 0.0e+00\n",
      "llm_load_print_meta: n_ff             = 14336\n",
      "llm_load_print_meta: n_expert         = 0\n",
      "llm_load_print_meta: n_expert_used    = 0\n",
      "llm_load_print_meta: causal attn      = 1\n",
      "llm_load_print_meta: pooling type     = 0\n",
      "llm_load_print_meta: rope type        = 0\n",
      "llm_load_print_meta: rope scaling     = linear\n",
      "llm_load_print_meta: freq_base_train  = 10000.0\n",
      "llm_load_print_meta: freq_scale_train = 1\n",
      "llm_load_print_meta: n_yarn_orig_ctx  = 32768\n",
      "llm_load_print_meta: rope_finetuned   = unknown\n",
      "llm_load_print_meta: ssm_d_conv       = 0\n",
      "llm_load_print_meta: ssm_d_inner      = 0\n",
      "llm_load_print_meta: ssm_d_state      = 0\n",
      "llm_load_print_meta: ssm_dt_rank      = 0\n",
      "llm_load_print_meta: model type       = 7B\n",
      "llm_load_print_meta: model ftype      = Q4_K - Medium\n",
      "llm_load_print_meta: model params     = 7.24 B\n",
      "llm_load_print_meta: model size       = 4.07 GiB (4.83 BPW) \n",
      "llm_load_print_meta: general.name     = teknium_openhermes-2.5-mistral-7b\n",
      "llm_load_print_meta: BOS token        = 1 '<s>'\n",
      "llm_load_print_meta: EOS token        = 32000 '<|im_end|>'\n",
      "llm_load_print_meta: UNK token        = 0 '<unk>'\n",
      "llm_load_print_meta: PAD token        = 0 '<unk>'\n",
      "llm_load_print_meta: LF token         = 13 '<0x0A>'\n",
      "llm_load_tensors: ggml ctx size =    0.22 MiB\n"
     ]
    },
    {
     "name": "stdout",
     "output_type": "stream",
     "text": [
      "Model llms/openhermes-2.5-mistral-7b.Q4_K_M.gguf exists.\n"
     ]
    },
    {
     "name": "stderr",
     "output_type": "stream",
     "text": [
      "llm_load_tensors: offloading 32 repeating layers to GPU\n",
      "llm_load_tensors: offloading non-repeating layers to GPU\n",
      "llm_load_tensors: offloaded 33/33 layers to GPU\n",
      "llm_load_tensors:        CPU buffer size =    70.32 MiB\n",
      "llm_load_tensors:      CUDA0 buffer size =  4095.06 MiB\n",
      ".................................................................................................\n",
      "llama_new_context_with_model: n_ctx      = 16384\n",
      "llama_new_context_with_model: n_batch    = 512\n",
      "llama_new_context_with_model: n_ubatch   = 512\n",
      "llama_new_context_with_model: freq_base  = 10000.0\n",
      "llama_new_context_with_model: freq_scale = 1\n",
      "llama_kv_cache_init:      CUDA0 KV buffer size =  2048.00 MiB\n",
      "llama_new_context_with_model: KV self size  = 2048.00 MiB, K (f16): 1024.00 MiB, V (f16): 1024.00 MiB\n",
      "llama_new_context_with_model:  CUDA_Host  output buffer size =     0.12 MiB\n",
      "llama_new_context_with_model:      CUDA0 compute buffer size =  1088.00 MiB\n",
      "llama_new_context_with_model:  CUDA_Host compute buffer size =    40.01 MiB\n",
      "llama_new_context_with_model: graph nodes  = 1030\n",
      "llama_new_context_with_model: graph splits = 2\n",
      "AVX = 1 | AVX_VNNI = 0 | AVX2 = 1 | AVX512 = 0 | AVX512_VBMI = 0 | AVX512_VNNI = 0 | FMA = 1 | NEON = 0 | ARM_FMA = 0 | F16C = 1 | FP16_VA = 0 | WASM_SIMD = 0 | BLAS = 1 | SSE3 = 1 | SSSE3 = 1 | VSX = 0 | MATMUL_INT8 = 0 | \n",
      "Model metadata: {'tokenizer.ggml.padding_token_id': '0', 'tokenizer.ggml.eos_token_id': '32000', 'general.architecture': 'llama', 'llama.rope.freq_base': '10000.000000', 'llama.context_length': '32768', 'general.name': 'teknium_openhermes-2.5-mistral-7b', 'llama.embedding_length': '4096', 'llama.feed_forward_length': '14336', 'llama.attention.layer_norm_rms_epsilon': '0.000010', 'llama.rope.dimension_count': '128', 'tokenizer.ggml.bos_token_id': '1', 'llama.attention.head_count': '32', 'llama.block_count': '32', 'llama.attention.head_count_kv': '8', 'general.quantization_version': '2', 'tokenizer.ggml.model': 'llama', 'general.file_type': '15'}\n",
      "Using fallback chat format: None\n"
     ]
    }
   ],
   "source": [
    "from pathlib import Path\n",
    "\n",
    "filename_llm = \"llms/openhermes-2.5-mistral-7b.Q4_K_M.gguf\"\n",
    "if Path(filename_llm).is_file():\n",
    "    print(f\"Model {filename_llm} exists.\")\n",
    "\n",
    "else:\n",
    "    url = 'https://huggingface.co/TheBloke/OpenHermes-2.5-Mistral-7B-GGUF/resolve/main/openhermes-2.5-mistral-7b.Q4_K_M.gguf'\n",
    "    filename_llm = wget.download(url)\n",
    "    print(f\"Model {filename_llm} downloaded.\")\n",
    "\n",
    "from llama_cpp import Llama\n",
    "\n",
    "# Use llama.cpp to load in a Quantized LLM.\n",
    "llm = Llama(\n",
    "    model_path=filename_llm,\n",
    "    n_gpu_layers=-1,\n",
    "    n_ctx=4096*4,\n",
    "    stop=[\"Q:\", \"\\n\"]\n",
    ")\n",
    "\n",
    "from bertopic.representation import KeyBERTInspired, LlamaCPP, MaximalMarginalRelevance, PartOfSpeech\n",
    "\n",
    "prompt = \"\"\"Q:\n",
    "Tengo un topico que contiene los siguientes documentos:\n",
    "[DOCUMENTS]\n",
    "\n",
    "El topico se describe con las siguientes palabras clave: '[KEYWORDS]'.\n",
    "embedding_model\n",
    "Basado en esa información, dame una breve etiqueta para el topico de 5 palabras como máximo.\n",
    "A:\n",
    "\"\"\"\n",
    "\n",
    "# Create multiple representations of each topic that BERTopic creates.\n",
    "# This way when you do e.g. \"display(topic_model.get_topic_info()[1:11])\" you\n",
    "# can compare and contrast the different representations of the topics.\n",
    "# Later on use \"topic_model.get_topic_info()\" to access all the representations.\n",
    "representation_model = {\n",
    "    \"LLM\": LlamaCPP(llm, prompt=prompt),  # The main pipeline is defined with the \"main\" key.\n",
    "    \"KeyBERT\": KeyBERTInspired(),\n",
    "    \"Aspect1\": PartOfSpeech(\"es_dep_news_trf\"), # en_core_web_trf\n",
    "    \"Aspect2\": [KeyBERTInspired(top_n_words=30), MaximalMarginalRelevance(diversity=.5)],\n",
    "}"
   ]
  },
  {
   "cell_type": "markdown",
   "metadata": {},
   "source": [
    "Application of BERTopic"
   ]
  },
  {
   "cell_type": "code",
   "execution_count": 27,
   "metadata": {},
   "outputs": [
    {
     "name": "stderr",
     "output_type": "stream",
     "text": [
      "2024-07-17 10:33:02,815 - BERTopic - Dimensionality - Fitting the dimensionality reduction algorithm\n",
      "2024-07-17 10:33:12,771 - BERTopic - Dimensionality - Completed ✓\n",
      "2024-07-17 10:33:12,772 - BERTopic - Cluster - Start clustering the reduced embeddings\n",
      "2024-07-17 10:33:13,447 - BERTopic - Cluster - Completed ✓\n",
      "2024-07-17 10:33:13,451 - BERTopic - Representation - Extracting topics from clusters using representation models.\n",
      "  0%|                                                                                                                                                                                         | 0/13 [00:00<?, ?it/s]\n",
      "llama_print_timings:        load time =     186.62 ms\n",
      "llama_print_timings:      sample time =       4.91 ms /    16 runs   (    0.31 ms per token,  3259.32 tokens per second)\n",
      "llama_print_timings: prompt eval time =     358.74 ms /   897 tokens (    0.40 ms per token,  2500.40 tokens per second)\n",
      "llama_print_timings:        eval time =     173.60 ms /    15 runs   (   11.57 ms per token,    86.41 tokens per second)\n",
      "llama_print_timings:       total time =     571.48 ms /   912 tokens\n",
      "  8%|█████████████▌                                                                                                                                                                   | 1/13 [00:00<00:06,  1.73it/s]Llama.generate: prefix-match hit\n",
      "\n",
      "llama_print_timings:        load time =     186.62 ms\n",
      "llama_print_timings:      sample time =       4.95 ms /    16 runs   (    0.31 ms per token,  3231.67 tokens per second)\n",
      "llama_print_timings: prompt eval time =    3843.25 ms /  7188 tokens (    0.53 ms per token,  1870.29 tokens per second)\n",
      "llama_print_timings:        eval time =     234.08 ms /    15 runs   (   15.61 ms per token,    64.08 tokens per second)\n",
      "llama_print_timings:       total time =    4149.29 ms /  7203 tokens\n",
      " 15%|███████████████████████████▏                                                                                                                                                     | 2/13 [00:04<00:29,  2.69s/it]Llama.generate: prefix-match hit\n",
      "\n",
      "llama_print_timings:        load time =     186.62 ms\n",
      "llama_print_timings:      sample time =       5.02 ms /    16 runs   (    0.31 ms per token,  3185.35 tokens per second)\n",
      "llama_print_timings: prompt eval time =    3552.81 ms /  6819 tokens (    0.52 ms per token,  1919.32 tokens per second)\n",
      "llama_print_timings:        eval time =     222.75 ms /    15 runs   (   14.85 ms per token,    67.34 tokens per second)\n",
      "llama_print_timings:       total time =    3842.11 ms /  6834 tokens\n",
      " 23%|████████████████████████████████████████▊                                                                                                                                        | 3/13 [00:08<00:32,  3.22s/it]Llama.generate: prefix-match hit\n",
      "\n",
      "llama_print_timings:        load time =     186.62 ms\n",
      "llama_print_timings:      sample time =       5.16 ms /    16 runs   (    0.32 ms per token,  3100.17 tokens per second)\n",
      "llama_print_timings: prompt eval time =      99.27 ms /   211 tokens (    0.47 ms per token,  2125.62 tokens per second)\n",
      "llama_print_timings:        eval time =     167.01 ms /    15 runs   (   11.13 ms per token,    89.82 tokens per second)\n",
      "llama_print_timings:       total time =     306.54 ms /   226 tokens\n",
      " 31%|██████████████████████████████████████████████████████▍                                                                                                                          | 4/13 [00:08<00:18,  2.07s/it]Llama.generate: prefix-match hit\n",
      "\n",
      "llama_print_timings:        load time =     186.62 ms\n",
      "llama_print_timings:      sample time =       3.52 ms /    11 runs   (    0.32 ms per token,  3125.00 tokens per second)\n",
      "llama_print_timings: prompt eval time =    1564.74 ms /  3571 tokens (    0.44 ms per token,  2282.16 tokens per second)\n",
      "llama_print_timings:        eval time =     132.19 ms /    10 runs   (   13.22 ms per token,    75.65 tokens per second)\n",
      "llama_print_timings:       total time =    1738.04 ms /  3581 tokens\n",
      " 38%|████████████████████████████████████████████████████████████████████                                                                                                             | 5/13 [00:10<00:15,  1.96s/it]Llama.generate: prefix-match hit\n",
      "\n",
      "llama_print_timings:        load time =     186.62 ms\n",
      "llama_print_timings:      sample time =       4.88 ms /    16 runs   (    0.31 ms per token,  3276.00 tokens per second)\n",
      "llama_print_timings: prompt eval time =    3175.34 ms /  6195 tokens (    0.51 ms per token,  1950.97 tokens per second)\n",
      "llama_print_timings:        eval time =     218.79 ms /    15 runs   (   14.59 ms per token,    68.56 tokens per second)\n",
      "llama_print_timings:       total time =    3458.90 ms /  6210 tokens\n",
      " 46%|█████████████████████████████████████████████████████████████████████████████████▋                                                                                               | 6/13 [00:14<00:17,  2.47s/it]Llama.generate: prefix-match hit\n",
      "\n",
      "llama_print_timings:        load time =     186.62 ms\n",
      "llama_print_timings:      sample time =       5.05 ms /    16 runs   (    0.32 ms per token,  3168.32 tokens per second)\n",
      "llama_print_timings: prompt eval time =     239.74 ms /   524 tokens (    0.46 ms per token,  2185.71 tokens per second)\n",
      "llama_print_timings:        eval time =     174.68 ms /    15 runs   (   11.65 ms per token,    85.87 tokens per second)\n",
      "llama_print_timings:       total time =     454.24 ms /   539 tokens\n",
      " 54%|███████████████████████████████████████████████████████████████████████████████████████████████▎                                                                                 | 7/13 [00:14<00:10,  1.81s/it]Llama.generate: prefix-match hit\n",
      "\n",
      "llama_print_timings:        load time =     186.62 ms\n",
      "llama_print_timings:      sample time =       4.75 ms /    15 runs   (    0.32 ms per token,  3159.22 tokens per second)\n",
      "llama_print_timings: prompt eval time =     103.77 ms /   250 tokens (    0.42 ms per token,  2409.08 tokens per second)\n",
      "llama_print_timings:        eval time =     157.59 ms /    14 runs   (   11.26 ms per token,    88.84 tokens per second)\n",
      "llama_print_timings:       total time =     297.95 ms /   264 tokens\n",
      " 62%|████████████████████████████████████████████████████████████████████████████████████████████████████████████▉                                                                    | 8/13 [00:14<00:06,  1.33s/it]Llama.generate: prefix-match hit\n",
      "\n",
      "llama_print_timings:        load time =     186.62 ms\n",
      "llama_print_timings:      sample time =       4.40 ms /    14 runs   (    0.31 ms per token,  3178.93 tokens per second)\n",
      "llama_print_timings: prompt eval time =     337.58 ms /   877 tokens (    0.38 ms per token,  2597.86 tokens per second)\n",
      "llama_print_timings:        eval time =     149.27 ms /    13 runs   (   11.48 ms per token,    87.09 tokens per second)\n",
      "llama_print_timings:       total time =     520.55 ms /   890 tokens\n",
      " 69%|██████████████████████████████████████████████████████████████████████████████████████████████████████████████████████████▌                                                      | 9/13 [00:15<00:04,  1.08s/it]Llama.generate: prefix-match hit\n",
      "\n",
      "llama_print_timings:        load time =     186.62 ms\n",
      "llama_print_timings:      sample time =       5.04 ms /    16 runs   (    0.31 ms per token,  3175.23 tokens per second)\n",
      "llama_print_timings: prompt eval time =     450.90 ms /  1080 tokens (    0.42 ms per token,  2395.23 tokens per second)\n",
      "llama_print_timings:        eval time =     174.54 ms /    15 runs   (   11.64 ms per token,    85.94 tokens per second)\n",
      "llama_print_timings:       total time =     668.18 ms /  1095 tokens\n",
      " 77%|███████████████████████████████████████████████████████████████████████████████████████████████████████████████████████████████████████▍                                        | 10/13 [00:16<00:02,  1.05it/s]Llama.generate: prefix-match hit\n",
      "\n",
      "llama_print_timings:        load time =     186.62 ms\n",
      "llama_print_timings:      sample time =       3.75 ms /    12 runs   (    0.31 ms per token,  3201.71 tokens per second)\n",
      "llama_print_timings: prompt eval time =     340.30 ms /   891 tokens (    0.38 ms per token,  2618.28 tokens per second)\n",
      "llama_print_timings:        eval time =     127.50 ms /    11 runs   (   11.59 ms per token,    86.28 tokens per second)\n",
      "llama_print_timings:       total time =     497.66 ms /   902 tokens\n",
      " 85%|████████████████████████████████████████████████████████████████████████████████████████████████████████████████████████████████████████████████████▉                           | 11/13 [00:16<00:01,  1.22it/s]Llama.generate: prefix-match hit\n",
      "\n",
      "llama_print_timings:        load time =     186.62 ms\n",
      "llama_print_timings:      sample time =       4.04 ms /    13 runs   (    0.31 ms per token,  3219.42 tokens per second)\n",
      "llama_print_timings: prompt eval time =     155.83 ms /   385 tokens (    0.40 ms per token,  2470.67 tokens per second)\n",
      "llama_print_timings:        eval time =     133.80 ms /    12 runs   (   11.15 ms per token,    89.68 tokens per second)\n",
      "llama_print_timings:       total time =     320.59 ms /   397 tokens\n",
      " 92%|██████████████████████████████████████████████████████████████████████████████████████████████████████████████████████████████████████████████████████████████████▍             | 12/13 [00:16<00:00,  1.50it/s]Llama.generate: prefix-match hit\n",
      "\n",
      "llama_print_timings:        load time =     186.62 ms\n",
      "llama_print_timings:      sample time =       4.95 ms /    16 runs   (    0.31 ms per token,  3232.32 tokens per second)\n",
      "llama_print_timings: prompt eval time =     502.50 ms /  1264 tokens (    0.40 ms per token,  2515.40 tokens per second)\n",
      "llama_print_timings:        eval time =     170.10 ms /    15 runs   (   11.34 ms per token,    88.18 tokens per second)\n",
      "llama_print_timings:       total time =     713.67 ms /  1279 tokens\n",
      "100%|████████████████████████████████████████████████████████████████████████████████████████████████████████████████████████████████████████████████████████████████████████████████| 13/13 [00:17<00:00,  1.36s/it]\n",
      "2024-07-17 10:34:21,201 - BERTopic - Representation - Completed ✓\n"
     ]
    }
   ],
   "source": [
    "from bertopic import BERTopic\n",
    "\n",
    "topic_model = BERTopic(\n",
    "  language=\"multilingual\",\n",
    "\n",
    "  # Pipeline models.\n",
    "  embedding_model=embedding_model,            # Step 1 - Extract embeddings.\n",
    "  umap_model=umap_model,                      # Step 2 - UMAP model.\n",
    "  hdbscan_model=hdbscan_model,                # Step 3 - Cluster reduced embeddings.\n",
    "  vectorizer_model=vectorizer_model,          # Step 4 - Tokenize topics.\n",
    "  ctfidf_model=ctfidf_model,                  # Step 5 - Strengthen topics.\n",
    "  representation_model=representation_model,  # Step 6 - Label topics.\n",
    "\n",
    "  # Hyperparameters.\n",
    "  top_n_words=10,\n",
    "  verbose=True,\n",
    "\n",
    "  # Calculate the probabilities of all topics per document instead of\n",
    "  # the probability of the assigned topic per document.\n",
    "  # This could slow down the extraction of topics if you have many documents (> 100_000).\n",
    "  # NOTE: If false you cannot use the corresponding visualization method\n",
    "  #       visualize_probabilities.\n",
    "  # NOTE: This is an approximation of topic probabilities as used\n",
    "  #       in HDBSCAN and not an exact representation.\n",
    "  calculate_probabilities=True,\n",
    ")\n",
    "\n",
    "topics, probs = topic_model.fit_transform(\n",
    "    docs,\n",
    "    embeddings,\n",
    ")"
   ]
  },
  {
   "cell_type": "markdown",
   "metadata": {},
   "source": [
    "Visualization"
   ]
  },
  {
   "cell_type": "code",
   "execution_count": 28,
   "metadata": {},
   "outputs": [
    {
     "data": {
      "application/vnd.plotly.v1+json": {
       "config": {
        "plotlyServerURL": "https://plot.ly"
       },
       "data": [
        {
         "marker": {
          "color": [
           "rgb(229, 134, 6)",
           "rgb(93, 105, 177)",
           "rgb(82, 188, 163)",
           "rgb(153, 201, 69)",
           "rgb(204, 97, 176)",
           "rgb(36, 121, 108)",
           "rgb(218, 165, 27)",
           "rgb(47, 138, 196)",
           "rgb(118, 78, 159)",
           "rgb(237, 100, 90)",
           "rgb(165, 170, 153)"
          ]
         },
         "orientation": "h",
         "type": "bar",
         "x": [
          0.0033703465410090754,
          0.0034269273141383713,
          0.0035237725068912734,
          0.004061576806253895,
          0.004254048744554887,
          0.004503728789574158,
          0.004507932949359715,
          0.004833317354420321,
          0.005154604592320745,
          0.006962227079889526
         ],
         "xaxis": "x",
         "y": [
          "una  ",
          "estado  ",
          "cual  ",
          "cada  ",
          "numero  ",
          "publica  ",
          "municipal  ",
          "ayuntamiento  ",
          "municipio  ",
          "informacion  "
         ],
         "yaxis": "y"
        },
        {
         "marker": {
          "color": [
           "rgb(229, 134, 6)",
           "rgb(93, 105, 177)",
           "rgb(82, 188, 163)",
           "rgb(153, 201, 69)",
           "rgb(204, 97, 176)",
           "rgb(36, 121, 108)",
           "rgb(218, 165, 27)",
           "rgb(47, 138, 196)",
           "rgb(118, 78, 159)",
           "rgb(237, 100, 90)",
           "rgb(165, 170, 153)"
          ]
         },
         "orientation": "h",
         "type": "bar",
         "x": [
          0.01710434551131181,
          0.018062214574399098,
          0.018288395106815146,
          0.018696072406198087,
          0.01917809605187128,
          0.019188215504258973,
          0.01996724228179909,
          0.0199873776583242,
          0.02121229670152611,
          0.022353353190192275
         ],
         "xaxis": "x2",
         "y": [
          "servicios  ",
          "numero cma  ",
          "forma  ",
          "forma adjudicacion  ",
          "erp  ",
          "cma  ",
          "prestador  ",
          "contrato prestador  ",
          "contrato  ",
          "adjudicacion  "
         ],
         "yaxis": "y2"
        },
        {
         "marker": {
          "color": [
           "rgb(229, 134, 6)",
           "rgb(93, 105, 177)",
           "rgb(82, 188, 163)",
           "rgb(153, 201, 69)",
           "rgb(204, 97, 176)",
           "rgb(36, 121, 108)",
           "rgb(218, 165, 27)",
           "rgb(47, 138, 196)",
           "rgb(118, 78, 159)",
           "rgb(237, 100, 90)",
           "rgb(165, 170, 153)"
          ]
         },
         "orientation": "h",
         "type": "bar",
         "x": [
          0.04060474750143872,
          0.042674206236185536,
          0.044776319837807714,
          0.046682909633134796,
          0.04772442432033959,
          0.057622527257782455,
          0.07080034481800047,
          0.08429824242275533,
          0.09218339276096028,
          0.11249973898554826
         ],
         "xaxis": "x3",
         "y": [
          "federal  ",
          "sueldo senador  ",
          "local  ",
          "diputado federal  ",
          "diputado local  ",
          "senador  ",
          "sueldo diputado  ",
          "distrito  ",
          "diputado  ",
          "sueldo  "
         ],
         "yaxis": "y3"
        },
        {
         "marker": {
          "color": [
           "rgb(229, 134, 6)",
           "rgb(93, 105, 177)",
           "rgb(82, 188, 163)",
           "rgb(153, 201, 69)",
           "rgb(204, 97, 176)",
           "rgb(36, 121, 108)",
           "rgb(218, 165, 27)",
           "rgb(47, 138, 196)",
           "rgb(118, 78, 159)",
           "rgb(237, 100, 90)",
           "rgb(165, 170, 153)"
          ]
         },
         "orientation": "h",
         "type": "bar",
         "x": [
          0.022566918939009625,
          0.02371461322745384,
          0.023816950270626316,
          0.025175264750786054,
          0.025463161361371677,
          0.02685443693974991,
          0.02691031717182009,
          0.0529952721466301,
          0.060314718303059456,
          0.06268823290432733
         ],
         "xaxis": "x4",
         "y": [
          "cerveza botella  ",
          "alimentos general  ",
          "alimentos  ",
          "botella abierta  ",
          "cerveza  ",
          "abierta  ",
          "botella  ",
          "restaurante bar  ",
          "bar  ",
          "restaurante  "
         ],
         "yaxis": "y4"
        },
        {
         "marker": {
          "color": [
           "rgb(229, 134, 6)",
           "rgb(93, 105, 177)",
           "rgb(82, 188, 163)",
           "rgb(153, 201, 69)",
           "rgb(204, 97, 176)",
           "rgb(36, 121, 108)",
           "rgb(218, 165, 27)",
           "rgb(47, 138, 196)",
           "rgb(118, 78, 159)",
           "rgb(237, 100, 90)",
           "rgb(165, 170, 153)"
          ]
         },
         "orientation": "h",
         "type": "bar",
         "x": [
          0.025189861375248226,
          0.025194159290100066,
          0.025194159290100066,
          0.025194159290100066,
          0.026789849063102184,
          0.026862813690279028,
          0.02687362929013273,
          0.02692585461597906,
          0.027380265143725113,
          0.04775742070890691
         ],
         "xaxis": "x5",
         "y": [
          "contrato obra publica  ",
          "obra publica op  ",
          "contrato obra publica op  ",
          "publica op  ",
          "obra publica  ",
          "smimp  ",
          "smimp 2022  ",
          "numero obra  ",
          "publica  ",
          "obra  "
         ],
         "yaxis": "y5"
        },
        {
         "marker": {
          "color": [
           "rgb(229, 134, 6)",
           "rgb(93, 105, 177)",
           "rgb(82, 188, 163)",
           "rgb(153, 201, 69)",
           "rgb(204, 97, 176)",
           "rgb(36, 121, 108)",
           "rgb(218, 165, 27)",
           "rgb(47, 138, 196)",
           "rgb(118, 78, 159)",
           "rgb(237, 100, 90)",
           "rgb(165, 170, 153)"
          ]
         },
         "orientation": "h",
         "type": "bar",
         "x": [
          0.03462564063297779,
          0.03462564063297779,
          0.03462564063297779,
          0.03462564063297779,
          0.03462564063297779,
          0.03462564063297779,
          0.03462564063297779,
          0.03462564063297779,
          0.036296263130040286,
          0.0550322709886328
         ],
         "xaxis": "x6",
         "y": [
          "documento caso le permita publicitar  ",
          "cual obtuvo licencia funcionamiento documento caso  ",
          "le permita publicitar  ",
          "obtuvo licencia funcionamiento documento caso le  ",
          "licencia funcionamiento documento caso  ",
          "licencia funcionamiento documento caso le permita  ",
          "permita publicitar  ",
          "licencia funcionamiento documento caso le  ",
          "simple  ",
          "png  "
         ],
         "yaxis": "y6"
        },
        {
         "marker": {
          "color": [
           "rgb(229, 134, 6)",
           "rgb(93, 105, 177)",
           "rgb(82, 188, 163)",
           "rgb(153, 201, 69)",
           "rgb(204, 97, 176)",
           "rgb(36, 121, 108)",
           "rgb(218, 165, 27)",
           "rgb(47, 138, 196)",
           "rgb(118, 78, 159)",
           "rgb(237, 100, 90)",
           "rgb(165, 170, 153)"
          ]
         },
         "orientation": "h",
         "type": "bar",
         "x": [
          0.07569631636979575,
          0.07569631636979575,
          0.07569631636979575,
          0.07569631636979575,
          0.07569631636979575,
          0.07569631636979575,
          0.07569631636979575,
          0.07569631636979575,
          0.07569631636979575,
          0.07569631636979575
         ],
         "xaxis": "x7",
         "y": [
          "fotos facturas  ",
          "realizacion contrato  ",
          "testigos fotos facturas  ",
          "permito solicitar testigos  ",
          "permito solicitar testigos fotos  ",
          "permito solicitar testigos fotos facturas  ",
          "solicitar testigos  ",
          "solicitar testigos fotos facturas  ",
          "testigos fotos  ",
          "solicitar testigos fotos  "
         ],
         "yaxis": "y7"
        },
        {
         "marker": {
          "color": [
           "rgb(229, 134, 6)",
           "rgb(93, 105, 177)",
           "rgb(82, 188, 163)",
           "rgb(153, 201, 69)",
           "rgb(204, 97, 176)",
           "rgb(36, 121, 108)",
           "rgb(218, 165, 27)",
           "rgb(47, 138, 196)",
           "rgb(118, 78, 159)",
           "rgb(237, 100, 90)",
           "rgb(165, 170, 153)"
          ]
         },
         "orientation": "h",
         "type": "bar",
         "x": [
          0.018997576005550135,
          0.019034404944335913,
          0.019057894277019788,
          0.01910560089101272,
          0.01917905799685628,
          0.01917905799685628,
          0.023496335526570426,
          0.031394909849361864,
          0.03143288458649678,
          0.060267763879947416
         ],
         "xaxis": "x8",
         "y": [
          "funcionamiento simple  ",
          "dictamen proteccion  ",
          "dictamen proteccion civil  ",
          "certifica  ",
          "certifica tiene  ",
          "dictamen bomberos  ",
          "articulos  ",
          "dictamen  ",
          "simple dictamen  ",
          "simple  "
         ],
         "yaxis": "y8"
        },
        {
         "marker": {
          "color": [
           "rgb(229, 134, 6)",
           "rgb(93, 105, 177)",
           "rgb(82, 188, 163)",
           "rgb(153, 201, 69)",
           "rgb(204, 97, 176)",
           "rgb(36, 121, 108)",
           "rgb(218, 165, 27)",
           "rgb(47, 138, 196)",
           "rgb(118, 78, 159)",
           "rgb(237, 100, 90)",
           "rgb(165, 170, 153)"
          ]
         },
         "orientation": "h",
         "type": "bar",
         "x": [
          0.04221564363110307,
          0.04242040262299933,
          0.04243806826180764,
          0.04244738095767469,
          0.043091285876651945,
          0.04313775067469692,
          0.04641276249456183,
          0.04990317716155997,
          0.05031167754706819,
          0.05059477332167975
         ],
         "xaxis": "x9",
         "y": [
          "mes cada uno anos  ",
          "mes cada uno  ",
          "desglosado mes  ",
          "desglosado mes cada uno  ",
          "desglosado mes cada uno anos  ",
          "desglosado mes cada  ",
          "mes cada  ",
          "uno  ",
          "cada uno  ",
          "cada  "
         ],
         "yaxis": "y9"
        },
        {
         "marker": {
          "color": [
           "rgb(229, 134, 6)",
           "rgb(93, 105, 177)",
           "rgb(82, 188, 163)",
           "rgb(153, 201, 69)",
           "rgb(204, 97, 176)",
           "rgb(36, 121, 108)",
           "rgb(218, 165, 27)",
           "rgb(47, 138, 196)",
           "rgb(118, 78, 159)",
           "rgb(237, 100, 90)",
           "rgb(165, 170, 153)"
          ]
         },
         "orientation": "h",
         "type": "bar",
         "x": [
          0.02150895375418649,
          0.02150895375418649,
          0.02150895375418649,
          0.02150895375418649,
          0.02150895375418649,
          0.02150895375418649,
          0.021679058860710056,
          0.027158803539839536,
          0.029287970691416552,
          0.02962981411505105
         ],
         "xaxis": "x10",
         "y": [
          "image1 png medio presente escrito  ",
          "adjunto image1 png medio presente escrito  ",
          "image1 png medio presente escrito base  ",
          "png medio presente escrito  ",
          "png medio presente escrito base  ",
          "adjunto image1 png medio presente  ",
          "png medio presente escrito base dispuesto  ",
          "simple  ",
          "articulos  ",
          "informacion  "
         ],
         "yaxis": "y10"
        },
        {
         "marker": {
          "color": [
           "rgb(229, 134, 6)",
           "rgb(93, 105, 177)",
           "rgb(82, 188, 163)",
           "rgb(153, 201, 69)",
           "rgb(204, 97, 176)",
           "rgb(36, 121, 108)",
           "rgb(218, 165, 27)",
           "rgb(47, 138, 196)",
           "rgb(118, 78, 159)",
           "rgb(237, 100, 90)",
           "rgb(165, 170, 153)"
          ]
         },
         "orientation": "h",
         "type": "bar",
         "x": [
          0.05834431220494652,
          0.05840660402267362,
          0.05884415540413896,
          0.058975245270061975,
          0.05941330053263615,
          0.05950196112579553,
          0.059535012454027064,
          0.05958107176839315,
          0.05978522092492003,
          0.05978522092492003
         ],
         "xaxis": "x11",
         "y": [
          "difusion quehacer  ",
          "quehacer gubernamental  ",
          "difusion quehacer gubernamental ayuntamiento  ",
          "difusion quehacer gubernamental ayuntamiento municipio  ",
          "gubernamental ayuntamiento  ",
          "publica contrato  ",
          "quehacer gubernamental ayuntamiento  ",
          "version publica contrato  ",
          "gubernamental ayuntamiento municipio  ",
          "quehacer gubernamental ayuntamiento municipio  "
         ],
         "yaxis": "y11"
        },
        {
         "marker": {
          "color": [
           "rgb(229, 134, 6)",
           "rgb(93, 105, 177)",
           "rgb(82, 188, 163)",
           "rgb(153, 201, 69)",
           "rgb(204, 97, 176)",
           "rgb(36, 121, 108)",
           "rgb(218, 165, 27)",
           "rgb(47, 138, 196)",
           "rgb(118, 78, 159)",
           "rgb(237, 100, 90)",
           "rgb(165, 170, 153)"
          ]
         },
         "orientation": "h",
         "type": "bar",
         "x": [
          0.008535640389633403,
          0.009710758861475245,
          0.01028409803758251,
          0.010693028709887796,
          0.011387909679554921,
          0.01306560301750408,
          0.0156631682796121,
          0.0176944351349967,
          0.021021631018094743,
          0.03854664479310501
         ],
         "xaxis": "x12",
         "y": [
          "anos  ",
          "departamento  ",
          "departamento proteccion  ",
          "maltrato  ",
          "proteccion  ",
          "proteccion animal  ",
          "cuantos  ",
          "perros  ",
          "animales  ",
          "animal  "
         ],
         "yaxis": "y12"
        }
       ],
       "layout": {
        "annotations": [
         {
          "font": {
           "size": 16
          },
          "showarrow": false,
          "text": "Topic 0",
          "x": 0.0875,
          "xanchor": "center",
          "xref": "paper",
          "y": 1,
          "yanchor": "bottom",
          "yref": "paper"
         },
         {
          "font": {
           "size": 16
          },
          "showarrow": false,
          "text": "Topic 1",
          "x": 0.36250000000000004,
          "xanchor": "center",
          "xref": "paper",
          "y": 1,
          "yanchor": "bottom",
          "yref": "paper"
         },
         {
          "font": {
           "size": 16
          },
          "showarrow": false,
          "text": "Topic 2",
          "x": 0.6375000000000001,
          "xanchor": "center",
          "xref": "paper",
          "y": 1,
          "yanchor": "bottom",
          "yref": "paper"
         },
         {
          "font": {
           "size": 16
          },
          "showarrow": false,
          "text": "Topic 3",
          "x": 0.9125,
          "xanchor": "center",
          "xref": "paper",
          "y": 1,
          "yanchor": "bottom",
          "yref": "paper"
         },
         {
          "font": {
           "size": 16
          },
          "showarrow": false,
          "text": "Topic 4",
          "x": 0.0875,
          "xanchor": "center",
          "xref": "paper",
          "y": 0.6222222222222222,
          "yanchor": "bottom",
          "yref": "paper"
         },
         {
          "font": {
           "size": 16
          },
          "showarrow": false,
          "text": "Topic 5",
          "x": 0.36250000000000004,
          "xanchor": "center",
          "xref": "paper",
          "y": 0.6222222222222222,
          "yanchor": "bottom",
          "yref": "paper"
         },
         {
          "font": {
           "size": 16
          },
          "showarrow": false,
          "text": "Topic 6",
          "x": 0.6375000000000001,
          "xanchor": "center",
          "xref": "paper",
          "y": 0.6222222222222222,
          "yanchor": "bottom",
          "yref": "paper"
         },
         {
          "font": {
           "size": 16
          },
          "showarrow": false,
          "text": "Topic 7",
          "x": 0.9125,
          "xanchor": "center",
          "xref": "paper",
          "y": 0.6222222222222222,
          "yanchor": "bottom",
          "yref": "paper"
         },
         {
          "font": {
           "size": 16
          },
          "showarrow": false,
          "text": "Topic 8",
          "x": 0.0875,
          "xanchor": "center",
          "xref": "paper",
          "y": 0.24444444444444446,
          "yanchor": "bottom",
          "yref": "paper"
         },
         {
          "font": {
           "size": 16
          },
          "showarrow": false,
          "text": "Topic 9",
          "x": 0.36250000000000004,
          "xanchor": "center",
          "xref": "paper",
          "y": 0.24444444444444446,
          "yanchor": "bottom",
          "yref": "paper"
         },
         {
          "font": {
           "size": 16
          },
          "showarrow": false,
          "text": "Topic 10",
          "x": 0.6375000000000001,
          "xanchor": "center",
          "xref": "paper",
          "y": 0.24444444444444446,
          "yanchor": "bottom",
          "yref": "paper"
         },
         {
          "font": {
           "size": 16
          },
          "showarrow": false,
          "text": "Topic 11",
          "x": 0.9125,
          "xanchor": "center",
          "xref": "paper",
          "y": 0.24444444444444446,
          "yanchor": "bottom",
          "yref": "paper"
         }
        ],
        "font": {
         "color": "#000000",
         "family": "Roboto",
         "size": 10
        },
        "height": 900,
        "hoverlabel": {
         "bgcolor": "white",
         "font": {
          "family": "Rockwell",
          "size": 16
         }
        },
        "margin": {
         "b": 20,
         "l": 20,
         "r": 50,
         "t": 80
        },
        "plot_bgcolor": "rgba(0, 0, 0, 0)",
        "showlegend": false,
        "template": {
         "data": {
          "bar": [
           {
            "error_x": {
             "color": "#2a3f5f"
            },
            "error_y": {
             "color": "#2a3f5f"
            },
            "marker": {
             "line": {
              "color": "white",
              "width": 0.5
             },
             "pattern": {
              "fillmode": "overlay",
              "size": 10,
              "solidity": 0.2
             }
            },
            "type": "bar"
           }
          ],
          "barpolar": [
           {
            "marker": {
             "line": {
              "color": "white",
              "width": 0.5
             },
             "pattern": {
              "fillmode": "overlay",
              "size": 10,
              "solidity": 0.2
             }
            },
            "type": "barpolar"
           }
          ],
          "carpet": [
           {
            "aaxis": {
             "endlinecolor": "#2a3f5f",
             "gridcolor": "#C8D4E3",
             "linecolor": "#C8D4E3",
             "minorgridcolor": "#C8D4E3",
             "startlinecolor": "#2a3f5f"
            },
            "baxis": {
             "endlinecolor": "#2a3f5f",
             "gridcolor": "#C8D4E3",
             "linecolor": "#C8D4E3",
             "minorgridcolor": "#C8D4E3",
             "startlinecolor": "#2a3f5f"
            },
            "type": "carpet"
           }
          ],
          "choropleth": [
           {
            "colorbar": {
             "outlinewidth": 0,
             "ticks": ""
            },
            "type": "choropleth"
           }
          ],
          "contour": [
           {
            "colorbar": {
             "outlinewidth": 0,
             "ticks": ""
            },
            "colorscale": [
             [
              0,
              "#0d0887"
             ],
             [
              0.1111111111111111,
              "#46039f"
             ],
             [
              0.2222222222222222,
              "#7201a8"
             ],
             [
              0.3333333333333333,
              "#9c179e"
             ],
             [
              0.4444444444444444,
              "#bd3786"
             ],
             [
              0.5555555555555556,
              "#d8576b"
             ],
             [
              0.6666666666666666,
              "#ed7953"
             ],
             [
              0.7777777777777778,
              "#fb9f3a"
             ],
             [
              0.8888888888888888,
              "#fdca26"
             ],
             [
              1,
              "#f0f921"
             ]
            ],
            "type": "contour"
           }
          ],
          "contourcarpet": [
           {
            "colorbar": {
             "outlinewidth": 0,
             "ticks": ""
            },
            "type": "contourcarpet"
           }
          ],
          "heatmap": [
           {
            "colorbar": {
             "outlinewidth": 0,
             "ticks": ""
            },
            "colorscale": [
             [
              0,
              "#0d0887"
             ],
             [
              0.1111111111111111,
              "#46039f"
             ],
             [
              0.2222222222222222,
              "#7201a8"
             ],
             [
              0.3333333333333333,
              "#9c179e"
             ],
             [
              0.4444444444444444,
              "#bd3786"
             ],
             [
              0.5555555555555556,
              "#d8576b"
             ],
             [
              0.6666666666666666,
              "#ed7953"
             ],
             [
              0.7777777777777778,
              "#fb9f3a"
             ],
             [
              0.8888888888888888,
              "#fdca26"
             ],
             [
              1,
              "#f0f921"
             ]
            ],
            "type": "heatmap"
           }
          ],
          "heatmapgl": [
           {
            "colorbar": {
             "outlinewidth": 0,
             "ticks": ""
            },
            "colorscale": [
             [
              0,
              "#0d0887"
             ],
             [
              0.1111111111111111,
              "#46039f"
             ],
             [
              0.2222222222222222,
              "#7201a8"
             ],
             [
              0.3333333333333333,
              "#9c179e"
             ],
             [
              0.4444444444444444,
              "#bd3786"
             ],
             [
              0.5555555555555556,
              "#d8576b"
             ],
             [
              0.6666666666666666,
              "#ed7953"
             ],
             [
              0.7777777777777778,
              "#fb9f3a"
             ],
             [
              0.8888888888888888,
              "#fdca26"
             ],
             [
              1,
              "#f0f921"
             ]
            ],
            "type": "heatmapgl"
           }
          ],
          "histogram": [
           {
            "marker": {
             "pattern": {
              "fillmode": "overlay",
              "size": 10,
              "solidity": 0.2
             }
            },
            "type": "histogram"
           }
          ],
          "histogram2d": [
           {
            "colorbar": {
             "outlinewidth": 0,
             "ticks": ""
            },
            "colorscale": [
             [
              0,
              "#0d0887"
             ],
             [
              0.1111111111111111,
              "#46039f"
             ],
             [
              0.2222222222222222,
              "#7201a8"
             ],
             [
              0.3333333333333333,
              "#9c179e"
             ],
             [
              0.4444444444444444,
              "#bd3786"
             ],
             [
              0.5555555555555556,
              "#d8576b"
             ],
             [
              0.6666666666666666,
              "#ed7953"
             ],
             [
              0.7777777777777778,
              "#fb9f3a"
             ],
             [
              0.8888888888888888,
              "#fdca26"
             ],
             [
              1,
              "#f0f921"
             ]
            ],
            "type": "histogram2d"
           }
          ],
          "histogram2dcontour": [
           {
            "colorbar": {
             "outlinewidth": 0,
             "ticks": ""
            },
            "colorscale": [
             [
              0,
              "#0d0887"
             ],
             [
              0.1111111111111111,
              "#46039f"
             ],
             [
              0.2222222222222222,
              "#7201a8"
             ],
             [
              0.3333333333333333,
              "#9c179e"
             ],
             [
              0.4444444444444444,
              "#bd3786"
             ],
             [
              0.5555555555555556,
              "#d8576b"
             ],
             [
              0.6666666666666666,
              "#ed7953"
             ],
             [
              0.7777777777777778,
              "#fb9f3a"
             ],
             [
              0.8888888888888888,
              "#fdca26"
             ],
             [
              1,
              "#f0f921"
             ]
            ],
            "type": "histogram2dcontour"
           }
          ],
          "mesh3d": [
           {
            "colorbar": {
             "outlinewidth": 0,
             "ticks": ""
            },
            "type": "mesh3d"
           }
          ],
          "parcoords": [
           {
            "line": {
             "colorbar": {
              "outlinewidth": 0,
              "ticks": ""
             }
            },
            "type": "parcoords"
           }
          ],
          "pie": [
           {
            "automargin": true,
            "type": "pie"
           }
          ],
          "scatter": [
           {
            "fillpattern": {
             "fillmode": "overlay",
             "size": 10,
             "solidity": 0.2
            },
            "type": "scatter"
           }
          ],
          "scatter3d": [
           {
            "line": {
             "colorbar": {
              "outlinewidth": 0,
              "ticks": ""
             }
            },
            "marker": {
             "colorbar": {
              "outlinewidth": 0,
              "ticks": ""
             }
            },
            "type": "scatter3d"
           }
          ],
          "scattercarpet": [
           {
            "marker": {
             "colorbar": {
              "outlinewidth": 0,
              "ticks": ""
             }
            },
            "type": "scattercarpet"
           }
          ],
          "scattergeo": [
           {
            "marker": {
             "colorbar": {
              "outlinewidth": 0,
              "ticks": ""
             }
            },
            "type": "scattergeo"
           }
          ],
          "scattergl": [
           {
            "marker": {
             "colorbar": {
              "outlinewidth": 0,
              "ticks": ""
             }
            },
            "type": "scattergl"
           }
          ],
          "scattermapbox": [
           {
            "marker": {
             "colorbar": {
              "outlinewidth": 0,
              "ticks": ""
             }
            },
            "type": "scattermapbox"
           }
          ],
          "scatterpolar": [
           {
            "marker": {
             "colorbar": {
              "outlinewidth": 0,
              "ticks": ""
             }
            },
            "type": "scatterpolar"
           }
          ],
          "scatterpolargl": [
           {
            "marker": {
             "colorbar": {
              "outlinewidth": 0,
              "ticks": ""
             }
            },
            "type": "scatterpolargl"
           }
          ],
          "scatterternary": [
           {
            "marker": {
             "colorbar": {
              "outlinewidth": 0,
              "ticks": ""
             }
            },
            "type": "scatterternary"
           }
          ],
          "surface": [
           {
            "colorbar": {
             "outlinewidth": 0,
             "ticks": ""
            },
            "colorscale": [
             [
              0,
              "#0d0887"
             ],
             [
              0.1111111111111111,
              "#46039f"
             ],
             [
              0.2222222222222222,
              "#7201a8"
             ],
             [
              0.3333333333333333,
              "#9c179e"
             ],
             [
              0.4444444444444444,
              "#bd3786"
             ],
             [
              0.5555555555555556,
              "#d8576b"
             ],
             [
              0.6666666666666666,
              "#ed7953"
             ],
             [
              0.7777777777777778,
              "#fb9f3a"
             ],
             [
              0.8888888888888888,
              "#fdca26"
             ],
             [
              1,
              "#f0f921"
             ]
            ],
            "type": "surface"
           }
          ],
          "table": [
           {
            "cells": {
             "fill": {
              "color": "#EBF0F8"
             },
             "line": {
              "color": "white"
             }
            },
            "header": {
             "fill": {
              "color": "#C8D4E3"
             },
             "line": {
              "color": "white"
             }
            },
            "type": "table"
           }
          ]
         },
         "layout": {
          "annotationdefaults": {
           "arrowcolor": "#2a3f5f",
           "arrowhead": 0,
           "arrowwidth": 1
          },
          "autotypenumbers": "strict",
          "coloraxis": {
           "colorbar": {
            "outlinewidth": 0,
            "ticks": ""
           }
          },
          "colorscale": {
           "diverging": [
            [
             0,
             "#8e0152"
            ],
            [
             0.1,
             "#c51b7d"
            ],
            [
             0.2,
             "#de77ae"
            ],
            [
             0.3,
             "#f1b6da"
            ],
            [
             0.4,
             "#fde0ef"
            ],
            [
             0.5,
             "#f7f7f7"
            ],
            [
             0.6,
             "#e6f5d0"
            ],
            [
             0.7,
             "#b8e186"
            ],
            [
             0.8,
             "#7fbc41"
            ],
            [
             0.9,
             "#4d9221"
            ],
            [
             1,
             "#276419"
            ]
           ],
           "sequential": [
            [
             0,
             "#0d0887"
            ],
            [
             0.1111111111111111,
             "#46039f"
            ],
            [
             0.2222222222222222,
             "#7201a8"
            ],
            [
             0.3333333333333333,
             "#9c179e"
            ],
            [
             0.4444444444444444,
             "#bd3786"
            ],
            [
             0.5555555555555556,
             "#d8576b"
            ],
            [
             0.6666666666666666,
             "#ed7953"
            ],
            [
             0.7777777777777778,
             "#fb9f3a"
            ],
            [
             0.8888888888888888,
             "#fdca26"
            ],
            [
             1,
             "#f0f921"
            ]
           ],
           "sequentialminus": [
            [
             0,
             "#0d0887"
            ],
            [
             0.1111111111111111,
             "#46039f"
            ],
            [
             0.2222222222222222,
             "#7201a8"
            ],
            [
             0.3333333333333333,
             "#9c179e"
            ],
            [
             0.4444444444444444,
             "#bd3786"
            ],
            [
             0.5555555555555556,
             "#d8576b"
            ],
            [
             0.6666666666666666,
             "#ed7953"
            ],
            [
             0.7777777777777778,
             "#fb9f3a"
            ],
            [
             0.8888888888888888,
             "#fdca26"
            ],
            [
             1,
             "#f0f921"
            ]
           ]
          },
          "colorway": [
           "#636efa",
           "#EF553B",
           "#00cc96",
           "#ab63fa",
           "#FFA15A",
           "#19d3f3",
           "#FF6692",
           "#B6E880",
           "#FF97FF",
           "#FECB52"
          ],
          "font": {
           "color": "#2a3f5f"
          },
          "geo": {
           "bgcolor": "white",
           "lakecolor": "white",
           "landcolor": "white",
           "showlakes": true,
           "showland": true,
           "subunitcolor": "#C8D4E3"
          },
          "hoverlabel": {
           "align": "left"
          },
          "hovermode": "closest",
          "mapbox": {
           "style": "light"
          },
          "paper_bgcolor": "white",
          "plot_bgcolor": "white",
          "polar": {
           "angularaxis": {
            "gridcolor": "#EBF0F8",
            "linecolor": "#EBF0F8",
            "ticks": ""
           },
           "bgcolor": "white",
           "radialaxis": {
            "gridcolor": "#EBF0F8",
            "linecolor": "#EBF0F8",
            "ticks": ""
           }
          },
          "scene": {
           "xaxis": {
            "backgroundcolor": "white",
            "gridcolor": "#DFE8F3",
            "gridwidth": 2,
            "linecolor": "#EBF0F8",
            "showbackground": true,
            "ticks": "",
            "zerolinecolor": "#EBF0F8"
           },
           "yaxis": {
            "backgroundcolor": "white",
            "gridcolor": "#DFE8F3",
            "gridwidth": 2,
            "linecolor": "#EBF0F8",
            "showbackground": true,
            "ticks": "",
            "zerolinecolor": "#EBF0F8"
           },
           "zaxis": {
            "backgroundcolor": "white",
            "gridcolor": "#DFE8F3",
            "gridwidth": 2,
            "linecolor": "#EBF0F8",
            "showbackground": true,
            "ticks": "",
            "zerolinecolor": "#EBF0F8"
           }
          },
          "shapedefaults": {
           "line": {
            "color": "#2a3f5f"
           }
          },
          "ternary": {
           "aaxis": {
            "gridcolor": "#DFE8F3",
            "linecolor": "#A2B1C6",
            "ticks": ""
           },
           "baxis": {
            "gridcolor": "#DFE8F3",
            "linecolor": "#A2B1C6",
            "ticks": ""
           },
           "bgcolor": "white",
           "caxis": {
            "gridcolor": "#DFE8F3",
            "linecolor": "#A2B1C6",
            "ticks": ""
           }
          },
          "title": {
           "x": 0.05
          },
          "xaxis": {
           "automargin": true,
           "gridcolor": "#EBF0F8",
           "linecolor": "#EBF0F8",
           "ticks": "",
           "title": {
            "standoff": 15
           },
           "zerolinecolor": "#EBF0F8",
           "zerolinewidth": 2
          },
          "yaxis": {
           "automargin": true,
           "gridcolor": "#EBF0F8",
           "linecolor": "#EBF0F8",
           "ticks": "",
           "title": {
            "standoff": 15
           },
           "zerolinecolor": "#EBF0F8",
           "zerolinewidth": 2
          }
         }
        },
        "title": {
         "font": {
          "color": "#000000",
          "family": "Roboto Black",
          "size": 24
         },
         "text": "Top 16 topics visualized by the frequency of the top 10 words/phrases",
         "x": 0.5,
         "xanchor": "center",
         "y": 0.975,
         "yanchor": "top"
        },
        "width": 1200,
        "xaxis": {
         "anchor": "y",
         "autorange": true,
         "domain": [
          0,
          0.175
         ],
         "range": [
          0,
          0.0073286600840942375
         ],
         "showgrid": true,
         "type": "linear"
        },
        "xaxis10": {
         "anchor": "y10",
         "autorange": true,
         "domain": [
          0.275,
          0.45
         ],
         "range": [
          0,
          0.03118927801584321
         ],
         "showgrid": true,
         "type": "linear"
        },
        "xaxis11": {
         "anchor": "y11",
         "autorange": true,
         "domain": [
          0.55,
          0.7250000000000001
         ],
         "range": [
          0,
          0.06293181149991582
         ],
         "showgrid": true,
         "type": "linear"
        },
        "xaxis12": {
         "anchor": "y12",
         "autorange": true,
         "domain": [
          0.825,
          1
         ],
         "range": [
          0,
          0.040575415571689484
         ],
         "showgrid": true,
         "type": "linear"
        },
        "xaxis2": {
         "anchor": "y2",
         "autorange": true,
         "domain": [
          0.275,
          0.45
         ],
         "range": [
          0,
          0.023529845463360288
         ],
         "showgrid": true,
         "type": "linear"
        },
        "xaxis3": {
         "anchor": "y3",
         "autorange": true,
         "domain": [
          0.55,
          0.7250000000000001
         ],
         "range": [
          0,
          0.11842077787952449
         ],
         "showgrid": true,
         "type": "linear"
        },
        "xaxis4": {
         "anchor": "y4",
         "autorange": true,
         "domain": [
          0.825,
          1
         ],
         "range": [
          0,
          0.06598761358350246
         ],
         "showgrid": true,
         "type": "linear"
        },
        "xaxis5": {
         "anchor": "y5",
         "autorange": true,
         "domain": [
          0,
          0.175
         ],
         "range": [
          0,
          0.05027096916727043
         ],
         "showgrid": true,
         "type": "linear"
        },
        "xaxis6": {
         "anchor": "y6",
         "autorange": true,
         "domain": [
          0.275,
          0.45
         ],
         "range": [
          0,
          0.057928706303824004
         ],
         "showgrid": true,
         "type": "linear"
        },
        "xaxis7": {
         "anchor": "y7",
         "autorange": true,
         "domain": [
          0.55,
          0.7250000000000001
         ],
         "range": [
          0,
          0.07968033302083763
         ],
         "showgrid": true,
         "type": "linear"
        },
        "xaxis8": {
         "anchor": "y8",
         "autorange": true,
         "domain": [
          0.825,
          1
         ],
         "range": [
          0,
          0.06343975145257623
         ],
         "showgrid": true,
         "type": "linear"
        },
        "xaxis9": {
         "anchor": "y9",
         "autorange": true,
         "domain": [
          0,
          0.175
         ],
         "range": [
          0,
          0.05325765612808395
         ],
         "showgrid": true,
         "type": "linear"
        },
        "yaxis": {
         "anchor": "x",
         "autorange": true,
         "domain": [
          0.7555555555555555,
          1
         ],
         "range": [
          -0.5,
          9.5
         ],
         "showgrid": true,
         "type": "category"
        },
        "yaxis10": {
         "anchor": "x10",
         "autorange": true,
         "domain": [
          0,
          0.24444444444444446
         ],
         "range": [
          -0.5,
          9.5
         ],
         "showgrid": true,
         "type": "category"
        },
        "yaxis11": {
         "anchor": "x11",
         "autorange": true,
         "domain": [
          0,
          0.24444444444444446
         ],
         "range": [
          -0.5,
          9.5
         ],
         "showgrid": true,
         "type": "category"
        },
        "yaxis12": {
         "anchor": "x12",
         "autorange": true,
         "domain": [
          0,
          0.24444444444444446
         ],
         "range": [
          -0.5,
          9.5
         ],
         "showgrid": true,
         "type": "category"
        },
        "yaxis2": {
         "anchor": "x2",
         "autorange": true,
         "domain": [
          0.7555555555555555,
          1
         ],
         "range": [
          -0.5,
          9.5
         ],
         "showgrid": true,
         "type": "category"
        },
        "yaxis3": {
         "anchor": "x3",
         "autorange": true,
         "domain": [
          0.7555555555555555,
          1
         ],
         "range": [
          -0.5,
          9.5
         ],
         "showgrid": true,
         "type": "category"
        },
        "yaxis4": {
         "anchor": "x4",
         "autorange": true,
         "domain": [
          0.7555555555555555,
          1
         ],
         "range": [
          -0.5,
          9.5
         ],
         "showgrid": true,
         "type": "category"
        },
        "yaxis5": {
         "anchor": "x5",
         "autorange": true,
         "domain": [
          0.37777777777777777,
          0.6222222222222222
         ],
         "range": [
          -0.5,
          9.5
         ],
         "showgrid": true,
         "type": "category"
        },
        "yaxis6": {
         "anchor": "x6",
         "autorange": true,
         "domain": [
          0.37777777777777777,
          0.6222222222222222
         ],
         "range": [
          -0.5,
          9.5
         ],
         "showgrid": true,
         "type": "category"
        },
        "yaxis7": {
         "anchor": "x7",
         "autorange": true,
         "domain": [
          0.37777777777777777,
          0.6222222222222222
         ],
         "range": [
          -0.5,
          9.5
         ],
         "showgrid": true,
         "type": "category"
        },
        "yaxis8": {
         "anchor": "x8",
         "autorange": true,
         "domain": [
          0.37777777777777777,
          0.6222222222222222
         ],
         "range": [
          -0.5,
          9.5
         ],
         "showgrid": true,
         "type": "category"
        },
        "yaxis9": {
         "anchor": "x9",
         "autorange": true,
         "domain": [
          0,
          0.24444444444444446
         ],
         "range": [
          -0.5,
          9.5
         ],
         "showgrid": true,
         "type": "category"
        }
       }
      },
      "image/png": "[encoded data removed]",
      "text/html": [
       "<div>                            <div id=\"4b8a9006-e422-416e-87dd-be73230a5f7f\" class=\"plotly-graph-div\" style=\"height:900px; width:1200px;\"></div>            <script type=\"text/javascript\">                require([\"plotly\"], function(Plotly) {                    window.PLOTLYENV=window.PLOTLYENV || {};                                    if (document.getElementById(\"4b8a9006-e422-416e-87dd-be73230a5f7f\")) {                    Plotly.newPlot(                        \"4b8a9006-e422-416e-87dd-be73230a5f7f\",                        [{\"marker\":{\"color\":[\"rgb(229, 134, 6)\",\"rgb(93, 105, 177)\",\"rgb(82, 188, 163)\",\"rgb(153, 201, 69)\",\"rgb(204, 97, 176)\",\"rgb(36, 121, 108)\",\"rgb(218, 165, 27)\",\"rgb(47, 138, 196)\",\"rgb(118, 78, 159)\",\"rgb(237, 100, 90)\",\"rgb(165, 170, 153)\"]},\"orientation\":\"h\",\"x\":[0.0033703465410090754,0.0034269273141383713,0.0035237725068912734,0.004061576806253895,0.004254048744554887,0.004503728789574158,0.004507932949359715,0.004833317354420321,0.005154604592320745,0.006962227079889526],\"y\":[\"una  \",\"estado  \",\"cual  \",\"cada  \",\"numero  \",\"publica  \",\"municipal  \",\"ayuntamiento  \",\"municipio  \",\"informacion  \"],\"type\":\"bar\",\"xaxis\":\"x\",\"yaxis\":\"y\"},{\"marker\":{\"color\":[\"rgb(229, 134, 6)\",\"rgb(93, 105, 177)\",\"rgb(82, 188, 163)\",\"rgb(153, 201, 69)\",\"rgb(204, 97, 176)\",\"rgb(36, 121, 108)\",\"rgb(218, 165, 27)\",\"rgb(47, 138, 196)\",\"rgb(118, 78, 159)\",\"rgb(237, 100, 90)\",\"rgb(165, 170, 153)\"]},\"orientation\":\"h\",\"x\":[0.01710434551131181,0.018062214574399098,0.018288395106815146,0.018696072406198087,0.01917809605187128,0.019188215504258973,0.01996724228179909,0.0199873776583242,0.02121229670152611,0.022353353190192275],\"y\":[\"servicios  \",\"numero cma  \",\"forma  \",\"forma adjudicacion  \",\"erp  \",\"cma  \",\"prestador  \",\"contrato prestador  \",\"contrato  \",\"adjudicacion  \"],\"type\":\"bar\",\"xaxis\":\"x2\",\"yaxis\":\"y2\"},{\"marker\":{\"color\":[\"rgb(229, 134, 6)\",\"rgb(93, 105, 177)\",\"rgb(82, 188, 163)\",\"rgb(153, 201, 69)\",\"rgb(204, 97, 176)\",\"rgb(36, 121, 108)\",\"rgb(218, 165, 27)\",\"rgb(47, 138, 196)\",\"rgb(118, 78, 159)\",\"rgb(237, 100, 90)\",\"rgb(165, 170, 153)\"]},\"orientation\":\"h\",\"x\":[0.04060474750143872,0.042674206236185536,0.044776319837807714,0.046682909633134796,0.04772442432033959,0.057622527257782455,0.07080034481800047,0.08429824242275533,0.09218339276096028,0.11249973898554826],\"y\":[\"federal  \",\"sueldo senador  \",\"local  \",\"diputado federal  \",\"diputado local  \",\"senador  \",\"sueldo diputado  \",\"distrito  \",\"diputado  \",\"sueldo  \"],\"type\":\"bar\",\"xaxis\":\"x3\",\"yaxis\":\"y3\"},{\"marker\":{\"color\":[\"rgb(229, 134, 6)\",\"rgb(93, 105, 177)\",\"rgb(82, 188, 163)\",\"rgb(153, 201, 69)\",\"rgb(204, 97, 176)\",\"rgb(36, 121, 108)\",\"rgb(218, 165, 27)\",\"rgb(47, 138, 196)\",\"rgb(118, 78, 159)\",\"rgb(237, 100, 90)\",\"rgb(165, 170, 153)\"]},\"orientation\":\"h\",\"x\":[0.022566918939009625,0.02371461322745384,0.023816950270626316,0.025175264750786054,0.025463161361371677,0.02685443693974991,0.02691031717182009,0.0529952721466301,0.060314718303059456,0.06268823290432733],\"y\":[\"cerveza botella  \",\"alimentos general  \",\"alimentos  \",\"botella abierta  \",\"cerveza  \",\"abierta  \",\"botella  \",\"restaurante bar  \",\"bar  \",\"restaurante  \"],\"type\":\"bar\",\"xaxis\":\"x4\",\"yaxis\":\"y4\"},{\"marker\":{\"color\":[\"rgb(229, 134, 6)\",\"rgb(93, 105, 177)\",\"rgb(82, 188, 163)\",\"rgb(153, 201, 69)\",\"rgb(204, 97, 176)\",\"rgb(36, 121, 108)\",\"rgb(218, 165, 27)\",\"rgb(47, 138, 196)\",\"rgb(118, 78, 159)\",\"rgb(237, 100, 90)\",\"rgb(165, 170, 153)\"]},\"orientation\":\"h\",\"x\":[0.025189861375248226,0.025194159290100066,0.025194159290100066,0.025194159290100066,0.026789849063102184,0.026862813690279028,0.02687362929013273,0.02692585461597906,0.027380265143725113,0.04775742070890691],\"y\":[\"contrato obra publica  \",\"obra publica op  \",\"contrato obra publica op  \",\"publica op  \",\"obra publica  \",\"smimp  \",\"smimp 2022  \",\"numero obra  \",\"publica  \",\"obra  \"],\"type\":\"bar\",\"xaxis\":\"x5\",\"yaxis\":\"y5\"},{\"marker\":{\"color\":[\"rgb(229, 134, 6)\",\"rgb(93, 105, 177)\",\"rgb(82, 188, 163)\",\"rgb(153, 201, 69)\",\"rgb(204, 97, 176)\",\"rgb(36, 121, 108)\",\"rgb(218, 165, 27)\",\"rgb(47, 138, 196)\",\"rgb(118, 78, 159)\",\"rgb(237, 100, 90)\",\"rgb(165, 170, 153)\"]},\"orientation\":\"h\",\"x\":[0.03462564063297779,0.03462564063297779,0.03462564063297779,0.03462564063297779,0.03462564063297779,0.03462564063297779,0.03462564063297779,0.03462564063297779,0.036296263130040286,0.0550322709886328],\"y\":[\"documento caso le permita publicitar  \",\"cual obtuvo licencia funcionamiento documento caso  \",\"le permita publicitar  \",\"obtuvo licencia funcionamiento documento caso le  \",\"licencia funcionamiento documento caso  \",\"licencia funcionamiento documento caso le permita  \",\"permita publicitar  \",\"licencia funcionamiento documento caso le  \",\"simple  \",\"png  \"],\"type\":\"bar\",\"xaxis\":\"x6\",\"yaxis\":\"y6\"},{\"marker\":{\"color\":[\"rgb(229, 134, 6)\",\"rgb(93, 105, 177)\",\"rgb(82, 188, 163)\",\"rgb(153, 201, 69)\",\"rgb(204, 97, 176)\",\"rgb(36, 121, 108)\",\"rgb(218, 165, 27)\",\"rgb(47, 138, 196)\",\"rgb(118, 78, 159)\",\"rgb(237, 100, 90)\",\"rgb(165, 170, 153)\"]},\"orientation\":\"h\",\"x\":[0.07569631636979575,0.07569631636979575,0.07569631636979575,0.07569631636979575,0.07569631636979575,0.07569631636979575,0.07569631636979575,0.07569631636979575,0.07569631636979575,0.07569631636979575],\"y\":[\"fotos facturas  \",\"realizacion contrato  \",\"testigos fotos facturas  \",\"permito solicitar testigos  \",\"permito solicitar testigos fotos  \",\"permito solicitar testigos fotos facturas  \",\"solicitar testigos  \",\"solicitar testigos fotos facturas  \",\"testigos fotos  \",\"solicitar testigos fotos  \"],\"type\":\"bar\",\"xaxis\":\"x7\",\"yaxis\":\"y7\"},{\"marker\":{\"color\":[\"rgb(229, 134, 6)\",\"rgb(93, 105, 177)\",\"rgb(82, 188, 163)\",\"rgb(153, 201, 69)\",\"rgb(204, 97, 176)\",\"rgb(36, 121, 108)\",\"rgb(218, 165, 27)\",\"rgb(47, 138, 196)\",\"rgb(118, 78, 159)\",\"rgb(237, 100, 90)\",\"rgb(165, 170, 153)\"]},\"orientation\":\"h\",\"x\":[0.018997576005550135,0.019034404944335913,0.019057894277019788,0.01910560089101272,0.01917905799685628,0.01917905799685628,0.023496335526570426,0.031394909849361864,0.03143288458649678,0.060267763879947416],\"y\":[\"funcionamiento simple  \",\"dictamen proteccion  \",\"dictamen proteccion civil  \",\"certifica  \",\"certifica tiene  \",\"dictamen bomberos  \",\"articulos  \",\"dictamen  \",\"simple dictamen  \",\"simple  \"],\"type\":\"bar\",\"xaxis\":\"x8\",\"yaxis\":\"y8\"},{\"marker\":{\"color\":[\"rgb(229, 134, 6)\",\"rgb(93, 105, 177)\",\"rgb(82, 188, 163)\",\"rgb(153, 201, 69)\",\"rgb(204, 97, 176)\",\"rgb(36, 121, 108)\",\"rgb(218, 165, 27)\",\"rgb(47, 138, 196)\",\"rgb(118, 78, 159)\",\"rgb(237, 100, 90)\",\"rgb(165, 170, 153)\"]},\"orientation\":\"h\",\"x\":[0.04221564363110307,0.04242040262299933,0.04243806826180764,0.04244738095767469,0.043091285876651945,0.04313775067469692,0.04641276249456183,0.04990317716155997,0.05031167754706819,0.05059477332167975],\"y\":[\"mes cada uno anos  \",\"mes cada uno  \",\"desglosado mes  \",\"desglosado mes cada uno  \",\"desglosado mes cada uno anos  \",\"desglosado mes cada  \",\"mes cada  \",\"uno  \",\"cada uno  \",\"cada  \"],\"type\":\"bar\",\"xaxis\":\"x9\",\"yaxis\":\"y9\"},{\"marker\":{\"color\":[\"rgb(229, 134, 6)\",\"rgb(93, 105, 177)\",\"rgb(82, 188, 163)\",\"rgb(153, 201, 69)\",\"rgb(204, 97, 176)\",\"rgb(36, 121, 108)\",\"rgb(218, 165, 27)\",\"rgb(47, 138, 196)\",\"rgb(118, 78, 159)\",\"rgb(237, 100, 90)\",\"rgb(165, 170, 153)\"]},\"orientation\":\"h\",\"x\":[0.02150895375418649,0.02150895375418649,0.02150895375418649,0.02150895375418649,0.02150895375418649,0.02150895375418649,0.021679058860710056,0.027158803539839536,0.029287970691416552,0.02962981411505105],\"y\":[\"image1 png medio presente escrito  \",\"adjunto image1 png medio presente escrito  \",\"image1 png medio presente escrito base  \",\"png medio presente escrito  \",\"png medio presente escrito base  \",\"adjunto image1 png medio presente  \",\"png medio presente escrito base dispuesto  \",\"simple  \",\"articulos  \",\"informacion  \"],\"type\":\"bar\",\"xaxis\":\"x10\",\"yaxis\":\"y10\"},{\"marker\":{\"color\":[\"rgb(229, 134, 6)\",\"rgb(93, 105, 177)\",\"rgb(82, 188, 163)\",\"rgb(153, 201, 69)\",\"rgb(204, 97, 176)\",\"rgb(36, 121, 108)\",\"rgb(218, 165, 27)\",\"rgb(47, 138, 196)\",\"rgb(118, 78, 159)\",\"rgb(237, 100, 90)\",\"rgb(165, 170, 153)\"]},\"orientation\":\"h\",\"x\":[0.05834431220494652,0.05840660402267362,0.05884415540413896,0.058975245270061975,0.05941330053263615,0.05950196112579553,0.059535012454027064,0.05958107176839315,0.05978522092492003,0.05978522092492003],\"y\":[\"difusion quehacer  \",\"quehacer gubernamental  \",\"difusion quehacer gubernamental ayuntamiento  \",\"difusion quehacer gubernamental ayuntamiento municipio  \",\"gubernamental ayuntamiento  \",\"publica contrato  \",\"quehacer gubernamental ayuntamiento  \",\"version publica contrato  \",\"gubernamental ayuntamiento municipio  \",\"quehacer gubernamental ayuntamiento municipio  \"],\"type\":\"bar\",\"xaxis\":\"x11\",\"yaxis\":\"y11\"},{\"marker\":{\"color\":[\"rgb(229, 134, 6)\",\"rgb(93, 105, 177)\",\"rgb(82, 188, 163)\",\"rgb(153, 201, 69)\",\"rgb(204, 97, 176)\",\"rgb(36, 121, 108)\",\"rgb(218, 165, 27)\",\"rgb(47, 138, 196)\",\"rgb(118, 78, 159)\",\"rgb(237, 100, 90)\",\"rgb(165, 170, 153)\"]},\"orientation\":\"h\",\"x\":[0.008535640389633403,0.009710758861475245,0.01028409803758251,0.010693028709887796,0.011387909679554921,0.01306560301750408,0.0156631682796121,0.0176944351349967,0.021021631018094743,0.03854664479310501],\"y\":[\"anos  \",\"departamento  \",\"departamento proteccion  \",\"maltrato  \",\"proteccion  \",\"proteccion animal  \",\"cuantos  \",\"perros  \",\"animales  \",\"animal  \"],\"type\":\"bar\",\"xaxis\":\"x12\",\"yaxis\":\"y12\"}],                        {\"template\":{\"data\":{\"barpolar\":[{\"marker\":{\"line\":{\"color\":\"white\",\"width\":0.5},\"pattern\":{\"fillmode\":\"overlay\",\"size\":10,\"solidity\":0.2}},\"type\":\"barpolar\"}],\"bar\":[{\"error_x\":{\"color\":\"#2a3f5f\"},\"error_y\":{\"color\":\"#2a3f5f\"},\"marker\":{\"line\":{\"color\":\"white\",\"width\":0.5},\"pattern\":{\"fillmode\":\"overlay\",\"size\":10,\"solidity\":0.2}},\"type\":\"bar\"}],\"carpet\":[{\"aaxis\":{\"endlinecolor\":\"#2a3f5f\",\"gridcolor\":\"#C8D4E3\",\"linecolor\":\"#C8D4E3\",\"minorgridcolor\":\"#C8D4E3\",\"startlinecolor\":\"#2a3f5f\"},\"baxis\":{\"endlinecolor\":\"#2a3f5f\",\"gridcolor\":\"#C8D4E3\",\"linecolor\":\"#C8D4E3\",\"minorgridcolor\":\"#C8D4E3\",\"startlinecolor\":\"#2a3f5f\"},\"type\":\"carpet\"}],\"choropleth\":[{\"colorbar\":{\"outlinewidth\":0,\"ticks\":\"\"},\"type\":\"choropleth\"}],\"contourcarpet\":[{\"colorbar\":{\"outlinewidth\":0,\"ticks\":\"\"},\"type\":\"contourcarpet\"}],\"contour\":[{\"colorbar\":{\"outlinewidth\":0,\"ticks\":\"\"},\"colorscale\":[[0.0,\"#0d0887\"],[0.1111111111111111,\"#46039f\"],[0.2222222222222222,\"#7201a8\"],[0.3333333333333333,\"#9c179e\"],[0.4444444444444444,\"#bd3786\"],[0.5555555555555556,\"#d8576b\"],[0.6666666666666666,\"#ed7953\"],[0.7777777777777778,\"#fb9f3a\"],[0.8888888888888888,\"#fdca26\"],[1.0,\"#f0f921\"]],\"type\":\"contour\"}],\"heatmapgl\":[{\"colorbar\":{\"outlinewidth\":0,\"ticks\":\"\"},\"colorscale\":[[0.0,\"#0d0887\"],[0.1111111111111111,\"#46039f\"],[0.2222222222222222,\"#7201a8\"],[0.3333333333333333,\"#9c179e\"],[0.4444444444444444,\"#bd3786\"],[0.5555555555555556,\"#d8576b\"],[0.6666666666666666,\"#ed7953\"],[0.7777777777777778,\"#fb9f3a\"],[0.8888888888888888,\"#fdca26\"],[1.0,\"#f0f921\"]],\"type\":\"heatmapgl\"}],\"heatmap\":[{\"colorbar\":{\"outlinewidth\":0,\"ticks\":\"\"},\"colorscale\":[[0.0,\"#0d0887\"],[0.1111111111111111,\"#46039f\"],[0.2222222222222222,\"#7201a8\"],[0.3333333333333333,\"#9c179e\"],[0.4444444444444444,\"#bd3786\"],[0.5555555555555556,\"#d8576b\"],[0.6666666666666666,\"#ed7953\"],[0.7777777777777778,\"#fb9f3a\"],[0.8888888888888888,\"#fdca26\"],[1.0,\"#f0f921\"]],\"type\":\"heatmap\"}],\"histogram2dcontour\":[{\"colorbar\":{\"outlinewidth\":0,\"ticks\":\"\"},\"colorscale\":[[0.0,\"#0d0887\"],[0.1111111111111111,\"#46039f\"],[0.2222222222222222,\"#7201a8\"],[0.3333333333333333,\"#9c179e\"],[0.4444444444444444,\"#bd3786\"],[0.5555555555555556,\"#d8576b\"],[0.6666666666666666,\"#ed7953\"],[0.7777777777777778,\"#fb9f3a\"],[0.8888888888888888,\"#fdca26\"],[1.0,\"#f0f921\"]],\"type\":\"histogram2dcontour\"}],\"histogram2d\":[{\"colorbar\":{\"outlinewidth\":0,\"ticks\":\"\"},\"colorscale\":[[0.0,\"#0d0887\"],[0.1111111111111111,\"#46039f\"],[0.2222222222222222,\"#7201a8\"],[0.3333333333333333,\"#9c179e\"],[0.4444444444444444,\"#bd3786\"],[0.5555555555555556,\"#d8576b\"],[0.6666666666666666,\"#ed7953\"],[0.7777777777777778,\"#fb9f3a\"],[0.8888888888888888,\"#fdca26\"],[1.0,\"#f0f921\"]],\"type\":\"histogram2d\"}],\"histogram\":[{\"marker\":{\"pattern\":{\"fillmode\":\"overlay\",\"size\":10,\"solidity\":0.2}},\"type\":\"histogram\"}],\"mesh3d\":[{\"colorbar\":{\"outlinewidth\":0,\"ticks\":\"\"},\"type\":\"mesh3d\"}],\"parcoords\":[{\"line\":{\"colorbar\":{\"outlinewidth\":0,\"ticks\":\"\"}},\"type\":\"parcoords\"}],\"pie\":[{\"automargin\":true,\"type\":\"pie\"}],\"scatter3d\":[{\"line\":{\"colorbar\":{\"outlinewidth\":0,\"ticks\":\"\"}},\"marker\":{\"colorbar\":{\"outlinewidth\":0,\"ticks\":\"\"}},\"type\":\"scatter3d\"}],\"scattercarpet\":[{\"marker\":{\"colorbar\":{\"outlinewidth\":0,\"ticks\":\"\"}},\"type\":\"scattercarpet\"}],\"scattergeo\":[{\"marker\":{\"colorbar\":{\"outlinewidth\":0,\"ticks\":\"\"}},\"type\":\"scattergeo\"}],\"scattergl\":[{\"marker\":{\"colorbar\":{\"outlinewidth\":0,\"ticks\":\"\"}},\"type\":\"scattergl\"}],\"scattermapbox\":[{\"marker\":{\"colorbar\":{\"outlinewidth\":0,\"ticks\":\"\"}},\"type\":\"scattermapbox\"}],\"scatterpolargl\":[{\"marker\":{\"colorbar\":{\"outlinewidth\":0,\"ticks\":\"\"}},\"type\":\"scatterpolargl\"}],\"scatterpolar\":[{\"marker\":{\"colorbar\":{\"outlinewidth\":0,\"ticks\":\"\"}},\"type\":\"scatterpolar\"}],\"scatter\":[{\"fillpattern\":{\"fillmode\":\"overlay\",\"size\":10,\"solidity\":0.2},\"type\":\"scatter\"}],\"scatterternary\":[{\"marker\":{\"colorbar\":{\"outlinewidth\":0,\"ticks\":\"\"}},\"type\":\"scatterternary\"}],\"surface\":[{\"colorbar\":{\"outlinewidth\":0,\"ticks\":\"\"},\"colorscale\":[[0.0,\"#0d0887\"],[0.1111111111111111,\"#46039f\"],[0.2222222222222222,\"#7201a8\"],[0.3333333333333333,\"#9c179e\"],[0.4444444444444444,\"#bd3786\"],[0.5555555555555556,\"#d8576b\"],[0.6666666666666666,\"#ed7953\"],[0.7777777777777778,\"#fb9f3a\"],[0.8888888888888888,\"#fdca26\"],[1.0,\"#f0f921\"]],\"type\":\"surface\"}],\"table\":[{\"cells\":{\"fill\":{\"color\":\"#EBF0F8\"},\"line\":{\"color\":\"white\"}},\"header\":{\"fill\":{\"color\":\"#C8D4E3\"},\"line\":{\"color\":\"white\"}},\"type\":\"table\"}]},\"layout\":{\"annotationdefaults\":{\"arrowcolor\":\"#2a3f5f\",\"arrowhead\":0,\"arrowwidth\":1},\"autotypenumbers\":\"strict\",\"coloraxis\":{\"colorbar\":{\"outlinewidth\":0,\"ticks\":\"\"}},\"colorscale\":{\"diverging\":[[0,\"#8e0152\"],[0.1,\"#c51b7d\"],[0.2,\"#de77ae\"],[0.3,\"#f1b6da\"],[0.4,\"#fde0ef\"],[0.5,\"#f7f7f7\"],[0.6,\"#e6f5d0\"],[0.7,\"#b8e186\"],[0.8,\"#7fbc41\"],[0.9,\"#4d9221\"],[1,\"#276419\"]],\"sequential\":[[0.0,\"#0d0887\"],[0.1111111111111111,\"#46039f\"],[0.2222222222222222,\"#7201a8\"],[0.3333333333333333,\"#9c179e\"],[0.4444444444444444,\"#bd3786\"],[0.5555555555555556,\"#d8576b\"],[0.6666666666666666,\"#ed7953\"],[0.7777777777777778,\"#fb9f3a\"],[0.8888888888888888,\"#fdca26\"],[1.0,\"#f0f921\"]],\"sequentialminus\":[[0.0,\"#0d0887\"],[0.1111111111111111,\"#46039f\"],[0.2222222222222222,\"#7201a8\"],[0.3333333333333333,\"#9c179e\"],[0.4444444444444444,\"#bd3786\"],[0.5555555555555556,\"#d8576b\"],[0.6666666666666666,\"#ed7953\"],[0.7777777777777778,\"#fb9f3a\"],[0.8888888888888888,\"#fdca26\"],[1.0,\"#f0f921\"]]},\"colorway\":[\"#636efa\",\"#EF553B\",\"#00cc96\",\"#ab63fa\",\"#FFA15A\",\"#19d3f3\",\"#FF6692\",\"#B6E880\",\"#FF97FF\",\"#FECB52\"],\"font\":{\"color\":\"#2a3f5f\"},\"geo\":{\"bgcolor\":\"white\",\"lakecolor\":\"white\",\"landcolor\":\"white\",\"showlakes\":true,\"showland\":true,\"subunitcolor\":\"#C8D4E3\"},\"hoverlabel\":{\"align\":\"left\"},\"hovermode\":\"closest\",\"mapbox\":{\"style\":\"light\"},\"paper_bgcolor\":\"white\",\"plot_bgcolor\":\"white\",\"polar\":{\"angularaxis\":{\"gridcolor\":\"#EBF0F8\",\"linecolor\":\"#EBF0F8\",\"ticks\":\"\"},\"bgcolor\":\"white\",\"radialaxis\":{\"gridcolor\":\"#EBF0F8\",\"linecolor\":\"#EBF0F8\",\"ticks\":\"\"}},\"scene\":{\"xaxis\":{\"backgroundcolor\":\"white\",\"gridcolor\":\"#DFE8F3\",\"gridwidth\":2,\"linecolor\":\"#EBF0F8\",\"showbackground\":true,\"ticks\":\"\",\"zerolinecolor\":\"#EBF0F8\"},\"yaxis\":{\"backgroundcolor\":\"white\",\"gridcolor\":\"#DFE8F3\",\"gridwidth\":2,\"linecolor\":\"#EBF0F8\",\"showbackground\":true,\"ticks\":\"\",\"zerolinecolor\":\"#EBF0F8\"},\"zaxis\":{\"backgroundcolor\":\"white\",\"gridcolor\":\"#DFE8F3\",\"gridwidth\":2,\"linecolor\":\"#EBF0F8\",\"showbackground\":true,\"ticks\":\"\",\"zerolinecolor\":\"#EBF0F8\"}},\"shapedefaults\":{\"line\":{\"color\":\"#2a3f5f\"}},\"ternary\":{\"aaxis\":{\"gridcolor\":\"#DFE8F3\",\"linecolor\":\"#A2B1C6\",\"ticks\":\"\"},\"baxis\":{\"gridcolor\":\"#DFE8F3\",\"linecolor\":\"#A2B1C6\",\"ticks\":\"\"},\"bgcolor\":\"white\",\"caxis\":{\"gridcolor\":\"#DFE8F3\",\"linecolor\":\"#A2B1C6\",\"ticks\":\"\"}},\"title\":{\"x\":0.05},\"xaxis\":{\"automargin\":true,\"gridcolor\":\"#EBF0F8\",\"linecolor\":\"#EBF0F8\",\"ticks\":\"\",\"title\":{\"standoff\":15},\"zerolinecolor\":\"#EBF0F8\",\"zerolinewidth\":2},\"yaxis\":{\"automargin\":true,\"gridcolor\":\"#EBF0F8\",\"linecolor\":\"#EBF0F8\",\"ticks\":\"\",\"title\":{\"standoff\":15},\"zerolinecolor\":\"#EBF0F8\",\"zerolinewidth\":2}}},\"xaxis\":{\"anchor\":\"y\",\"domain\":[0.0,0.175],\"showgrid\":true},\"yaxis\":{\"anchor\":\"x\",\"domain\":[0.7555555555555555,1.0],\"showgrid\":true},\"xaxis2\":{\"anchor\":\"y2\",\"domain\":[0.275,0.45],\"showgrid\":true},\"yaxis2\":{\"anchor\":\"x2\",\"domain\":[0.7555555555555555,1.0],\"showgrid\":true},\"xaxis3\":{\"anchor\":\"y3\",\"domain\":[0.55,0.7250000000000001],\"showgrid\":true},\"yaxis3\":{\"anchor\":\"x3\",\"domain\":[0.7555555555555555,1.0],\"showgrid\":true},\"xaxis4\":{\"anchor\":\"y4\",\"domain\":[0.825,1.0],\"showgrid\":true},\"yaxis4\":{\"anchor\":\"x4\",\"domain\":[0.7555555555555555,1.0],\"showgrid\":true},\"xaxis5\":{\"anchor\":\"y5\",\"domain\":[0.0,0.175],\"showgrid\":true},\"yaxis5\":{\"anchor\":\"x5\",\"domain\":[0.37777777777777777,0.6222222222222222],\"showgrid\":true},\"xaxis6\":{\"anchor\":\"y6\",\"domain\":[0.275,0.45],\"showgrid\":true},\"yaxis6\":{\"anchor\":\"x6\",\"domain\":[0.37777777777777777,0.6222222222222222],\"showgrid\":true},\"xaxis7\":{\"anchor\":\"y7\",\"domain\":[0.55,0.7250000000000001],\"showgrid\":true},\"yaxis7\":{\"anchor\":\"x7\",\"domain\":[0.37777777777777777,0.6222222222222222],\"showgrid\":true},\"xaxis8\":{\"anchor\":\"y8\",\"domain\":[0.825,1.0],\"showgrid\":true},\"yaxis8\":{\"anchor\":\"x8\",\"domain\":[0.37777777777777777,0.6222222222222222],\"showgrid\":true},\"xaxis9\":{\"anchor\":\"y9\",\"domain\":[0.0,0.175],\"showgrid\":true},\"yaxis9\":{\"anchor\":\"x9\",\"domain\":[0.0,0.24444444444444446],\"showgrid\":true},\"xaxis10\":{\"anchor\":\"y10\",\"domain\":[0.275,0.45],\"showgrid\":true},\"yaxis10\":{\"anchor\":\"x10\",\"domain\":[0.0,0.24444444444444446],\"showgrid\":true},\"xaxis11\":{\"anchor\":\"y11\",\"domain\":[0.55,0.7250000000000001],\"showgrid\":true},\"yaxis11\":{\"anchor\":\"x11\",\"domain\":[0.0,0.24444444444444446],\"showgrid\":true},\"xaxis12\":{\"anchor\":\"y12\",\"domain\":[0.825,1.0],\"showgrid\":true},\"yaxis12\":{\"anchor\":\"x12\",\"domain\":[0.0,0.24444444444444446],\"showgrid\":true},\"annotations\":[{\"font\":{\"size\":16},\"showarrow\":false,\"text\":\"Topic 0\",\"x\":0.0875,\"xanchor\":\"center\",\"xref\":\"paper\",\"y\":1.0,\"yanchor\":\"bottom\",\"yref\":\"paper\"},{\"font\":{\"size\":16},\"showarrow\":false,\"text\":\"Topic 1\",\"x\":0.36250000000000004,\"xanchor\":\"center\",\"xref\":\"paper\",\"y\":1.0,\"yanchor\":\"bottom\",\"yref\":\"paper\"},{\"font\":{\"size\":16},\"showarrow\":false,\"text\":\"Topic 2\",\"x\":0.6375000000000001,\"xanchor\":\"center\",\"xref\":\"paper\",\"y\":1.0,\"yanchor\":\"bottom\",\"yref\":\"paper\"},{\"font\":{\"size\":16},\"showarrow\":false,\"text\":\"Topic 3\",\"x\":0.9125,\"xanchor\":\"center\",\"xref\":\"paper\",\"y\":1.0,\"yanchor\":\"bottom\",\"yref\":\"paper\"},{\"font\":{\"size\":16},\"showarrow\":false,\"text\":\"Topic 4\",\"x\":0.0875,\"xanchor\":\"center\",\"xref\":\"paper\",\"y\":0.6222222222222222,\"yanchor\":\"bottom\",\"yref\":\"paper\"},{\"font\":{\"size\":16},\"showarrow\":false,\"text\":\"Topic 5\",\"x\":0.36250000000000004,\"xanchor\":\"center\",\"xref\":\"paper\",\"y\":0.6222222222222222,\"yanchor\":\"bottom\",\"yref\":\"paper\"},{\"font\":{\"size\":16},\"showarrow\":false,\"text\":\"Topic 6\",\"x\":0.6375000000000001,\"xanchor\":\"center\",\"xref\":\"paper\",\"y\":0.6222222222222222,\"yanchor\":\"bottom\",\"yref\":\"paper\"},{\"font\":{\"size\":16},\"showarrow\":false,\"text\":\"Topic 7\",\"x\":0.9125,\"xanchor\":\"center\",\"xref\":\"paper\",\"y\":0.6222222222222222,\"yanchor\":\"bottom\",\"yref\":\"paper\"},{\"font\":{\"size\":16},\"showarrow\":false,\"text\":\"Topic 8\",\"x\":0.0875,\"xanchor\":\"center\",\"xref\":\"paper\",\"y\":0.24444444444444446,\"yanchor\":\"bottom\",\"yref\":\"paper\"},{\"font\":{\"size\":16},\"showarrow\":false,\"text\":\"Topic 9\",\"x\":0.36250000000000004,\"xanchor\":\"center\",\"xref\":\"paper\",\"y\":0.24444444444444446,\"yanchor\":\"bottom\",\"yref\":\"paper\"},{\"font\":{\"size\":16},\"showarrow\":false,\"text\":\"Topic 10\",\"x\":0.6375000000000001,\"xanchor\":\"center\",\"xref\":\"paper\",\"y\":0.24444444444444446,\"yanchor\":\"bottom\",\"yref\":\"paper\"},{\"font\":{\"size\":16},\"showarrow\":false,\"text\":\"Topic 11\",\"x\":0.9125,\"xanchor\":\"center\",\"xref\":\"paper\",\"y\":0.24444444444444446,\"yanchor\":\"bottom\",\"yref\":\"paper\"}],\"title\":{\"font\":{\"size\":24,\"color\":\"#000000\",\"family\":\"Roboto Black\"},\"text\":\"Top 16 topics visualized by the frequency of the top 10 words\\u002fphrases\",\"x\":0.5,\"xanchor\":\"center\",\"yanchor\":\"top\",\"y\":0.975},\"hoverlabel\":{\"font\":{\"size\":16,\"family\":\"Rockwell\"},\"bgcolor\":\"white\"},\"showlegend\":false,\"width\":1200,\"height\":900,\"margin\":{\"l\":20,\"r\":50,\"t\":80,\"b\":20},\"font\":{\"family\":\"Roboto\",\"size\":10,\"color\":\"#000000\"},\"plot_bgcolor\":\"rgba(0,0,0,0)\"},                        {\"responsive\": true}                    ).then(function(){\n",
       "                            \n",
       "var gd = document.getElementById('4b8a9006-e422-416e-87dd-be73230a5f7f');\n",
       "var x = new MutationObserver(function (mutations, observer) {{\n",
       "        var display = window.getComputedStyle(gd).display;\n",
       "        if (!display || display === 'none') {{\n",
       "            console.log([gd, 'removed!']);\n",
       "            Plotly.purge(gd);\n",
       "            observer.disconnect();\n",
       "        }}\n",
       "}});\n",
       "\n",
       "// Listen for the removal of the full notebook cells\n",
       "var notebookContainer = gd.closest('#notebook-container');\n",
       "if (notebookContainer) {{\n",
       "    x.observe(notebookContainer, {childList: true});\n",
       "}}\n",
       "\n",
       "// Listen for the clearing of the current output cell\n",
       "var outputEl = gd.closest('.output');\n",
       "if (outputEl) {{\n",
       "    x.observe(outputEl, {childList: true});\n",
       "}}\n",
       "\n",
       "                        })                };                });            </script>        </div>"
      ]
     },
     "metadata": {},
     "output_type": "display_data"
    }
   ],
   "source": [
    "import plotly.express as px\n",
    "\n",
    "top_n_topics = 16\n",
    "n_words = 10\n",
    "\n",
    "# 'fig_barchart' is a plotly figure.\n",
    "fig_barchart = topic_model.visualize_barchart(\n",
    "    top_n_topics = top_n_topics,  # Only select the top n most frequent topics.\n",
    "    n_words = n_words,            # Number of words to show in a topic.\n",
    "    custom_labels=True,          # Whether to use custom topic labels that were defined using topic_model.set_topic_labels.\n",
    "    title=f\"Top {top_n_topics} topics visualized by the frequency of the top {n_words} words\",\n",
    "    width=300,\n",
    "    height=300,\n",
    ")\n",
    "\n",
    "fig_barchart.update_layout(\n",
    "    # Adjust left, right, top, bottom margin of the overall figure.\n",
    "    margin=dict(l=20, r=50, t=80, b=20),\n",
    "\n",
    "    plot_bgcolor='rgba(0,0,0,0)',         # Set background color (transparent in this example).\n",
    "\n",
    "    title={\n",
    "        'text': f\"Top {top_n_topics} topics visualized by the frequency of the top {n_words} words/phrases\",\n",
    "        'y':0.975,\n",
    "        'x':0.5,\n",
    "        'xanchor': 'center',\n",
    "        'yanchor': 'top',\n",
    "        'font': dict(\n",
    "            family=\"Roboto Black\",\n",
    "            size=24,\n",
    "            color=\"#000000\"\n",
    "        )\n",
    "    },\n",
    "\n",
    "    font=dict(\n",
    "        family=\"Roboto\",\n",
    "        size=10,\n",
    "        color=\"#000000\"\n",
    "    ),\n",
    ")\n",
    "\n",
    "color_sequence = px.colors.qualitative.Vivid  # Choose a color sequence.\n",
    "fig_barchart.update_traces(marker_color=color_sequence)\n",
    "\n",
    "# Show the updated figure\n",
    "fig_barchart.show()\n",
    "fig_barchart.write_html('top 16 topics.html')"
   ]
  },
  {
   "cell_type": "code",
   "execution_count": 29,
   "metadata": {},
   "outputs": [
    {
     "name": "stderr",
     "output_type": "stream",
     "text": [
      "100%|████████████████████████████████████████████████████████████████████████████████████████████████████████████████████████████████████████████████████████████████████████████████| 11/11 [00:00<00:00, 16.72it/s]\n"
     ]
    },
    {
     "data": {
      "application/vnd.plotly.v1+json": {
       "config": {
        "plotlyServerURL": "https://plot.ly"
       },
       "data": [
        {
         "hoverinfo": "text",
         "marker": {
          "color": "rgb(61,153,112)"
         },
         "mode": "lines",
         "text": [
          "informacion_articulos_simple_png medio presente escrito base dispuesto_adjunto image1 png medio presente",
          "",
          "",
          "simple_simple dictamen_dictamen_articulos_dictamen bomberos"
         ],
         "type": "scatter",
         "x": [
          0,
          0.44790244602501683,
          0.44790244602501683,
          0
         ],
         "xaxis": "x",
         "y": [
          -15,
          -15,
          -25,
          -25
         ],
         "yaxis": "y"
        },
        {
         "hoverinfo": "text",
         "marker": {
          "color": "rgb(61,153,112)"
         },
         "mode": "lines",
         "text": [
          "png_simple_licencia funcionamiento documento caso le_permita publicitar_licencia funcionamiento documento caso le permita",
          "",
          "",
          "simple_articulos_informacion_simple dictamen_dictamen"
         ],
         "type": "scatter",
         "x": [
          0,
          0.9471212859602907,
          0.9471212859602907,
          0.44790244602501683
         ],
         "xaxis": "x",
         "y": [
          -5,
          -5,
          -20,
          -20
         ],
         "yaxis": "y"
        },
        {
         "hoverinfo": "text",
         "marker": {
          "color": "rgb(255,65,54)"
         },
         "mode": "lines",
         "text": [
          "adjudicacion_contrato_contrato prestador_prestador_cma",
          "",
          "",
          "obra_publica_numero obra_smimp 2022_smimp"
         ],
         "type": "scatter",
         "x": [
          0,
          0.4933748436351213,
          0.4933748436351213,
          0
         ],
         "xaxis": "x",
         "y": [
          -35,
          -35,
          -45,
          -45
         ],
         "yaxis": "y"
        },
        {
         "hoverinfo": "text",
         "marker": {
          "color": "rgb(255,65,54)"
         },
         "mode": "lines",
         "text": [
          "contrato_publica_2022_numero_adjudicacion",
          "",
          "",
          "informacion_municipio_ayuntamiento_municipal_publica"
         ],
         "type": "scatter",
         "x": [
          0.4933748436351213,
          0.7296318461217743,
          0.7296318461217743,
          0
         ],
         "xaxis": "x",
         "y": [
          -40,
          -40,
          -55,
          -55
         ],
         "yaxis": "y"
        },
        {
         "hoverinfo": "text",
         "marker": {
          "color": "rgb(35,205,205)"
         },
         "mode": "lines",
         "text": [
          "cada_cada uno_uno_mes cada_desglosado mes cada",
          "",
          "",
          "animal_animales_perros_cuantos_proteccion animal"
         ],
         "type": "scatter",
         "x": [
          0,
          0.8635099664256605,
          0.8635099664256605,
          0
         ],
         "xaxis": "x",
         "y": [
          -65,
          -65,
          -75,
          -75
         ],
         "yaxis": "y"
        },
        {
         "hoverinfo": "text",
         "marker": {
          "color": "rgb(133,20,75)"
         },
         "mode": "lines",
         "text": [
          "restaurante_bar_restaurante bar_botella_abierta",
          "",
          "",
          "sueldo_diputado_distrito_sueldo diputado_senador"
         ],
         "type": "scatter",
         "x": [
          0,
          0.995194569726205,
          0.995194569726205,
          0
         ],
         "xaxis": "x",
         "y": [
          -85,
          -85,
          -95,
          -95
         ],
         "yaxis": "y"
        },
        {
         "hoverinfo": "text",
         "marker": {
          "color": "rgb(255,220,0)"
         },
         "mode": "lines",
         "text": [
          "quehacer gubernamental ayuntamiento municipio_gubernamental ayuntamiento municipio_version publica contrato_quehacer gubernamental ayuntamiento_publica contrato",
          "",
          "",
          "solicitar testigos fotos_testigos fotos_solicitar testigos fotos facturas_solicitar testigos_permito solicitar testigos fotos facturas"
         ],
         "type": "scatter",
         "x": [
          0,
          0.9961672028492701,
          0.9961672028492701,
          0
         ],
         "xaxis": "x",
         "y": [
          -105,
          -105,
          -115,
          -115
         ],
         "yaxis": "y"
        },
        {
         "hoverinfo": "text",
         "marker": {
          "color": "rgb(0,116,217)"
         },
         "mode": "lines",
         "text": [
          "restaurante_bar_restaurante bar_botella_abierta",
          "",
          "",
          "realizacion contrato_fotos facturas_solicitar testigos fotos facturas_solicitar testigos fotos_permito solicitar testigos"
         ],
         "type": "scatter",
         "x": [
          0.995194569726205,
          1.0007376482146508,
          1.0007376482146508,
          0.9961672028492701
         ],
         "xaxis": "x",
         "y": [
          -90,
          -90,
          -110,
          -110
         ],
         "yaxis": "y"
        },
        {
         "hoverinfo": "text",
         "marker": {
          "color": "rgb(0,116,217)"
         },
         "mode": "lines",
         "text": [
          "cada_cada uno_uno_mes cada_desglosado mes cada",
          "",
          "",
          "restaurante_bar_restaurante bar_botella_abierta"
         ],
         "type": "scatter",
         "x": [
          0.8635099664256605,
          1.0614472984800338,
          1.0614472984800338,
          1.0007376482146508
         ],
         "xaxis": "x",
         "y": [
          -70,
          -70,
          -100,
          -100
         ],
         "yaxis": "y"
        },
        {
         "hoverinfo": "text",
         "marker": {
          "color": "rgb(0,116,217)"
         },
         "mode": "lines",
         "text": [
          "publica_numero_informacion_contrato_2022",
          "",
          "",
          "restaurante_bar_restaurante bar_botella_abierta"
         ],
         "type": "scatter",
         "x": [
          0.7296318461217743,
          1.2333155330540864,
          1.2333155330540864,
          1.0614472984800338
         ],
         "xaxis": "x",
         "y": [
          -47.5,
          -47.5,
          -85,
          -85
         ],
         "yaxis": "y"
        },
        {
         "hoverinfo": "text",
         "marker": {
          "color": "rgb(0,116,217)"
         },
         "mode": "lines",
         "text": [
          "simple_png_informacion_adjunto image1_adjunto image1 png",
          "",
          "",
          "publica_numero_informacion_contrato_2022"
         ],
         "type": "scatter",
         "x": [
          0.9471212859602907,
          1.2491280489012493,
          1.2491280489012493,
          1.2333155330540864
         ],
         "xaxis": "x",
         "y": [
          -12.5,
          -12.5,
          -66.25,
          -66.25
         ],
         "yaxis": "y"
        },
        {
         "hoverinfo": "text",
         "hovertext": [
          "contrato_publica_2022_numero_adjudicacion",
          "restaurante_bar_restaurante bar_botella_abierta",
          "cada_cada uno_uno_mes cada_desglosado mes cada",
          "publica_numero_informacion_contrato_2022",
          "simple_png_informacion_adjunto image1_adjunto image1 png"
         ],
         "marker": {
          "color": "black"
         },
         "mode": "markers",
         "showlegend": false,
         "type": "scatter",
         "x": [
          0.4933748436351213,
          0.995194569726205,
          0.8635099664256605,
          0.7296318461217743,
          0.9471212859602907
         ],
         "y": [
          -40,
          -90,
          -70,
          -47.5,
          -12.5
         ]
        },
        {
         "hoverinfo": "text",
         "hovertext": [
          "simple_articulos_informacion_simple dictamen_dictamen",
          "realizacion contrato_fotos facturas_solicitar testigos fotos facturas_solicitar testigos fotos_permito solicitar testigos",
          "restaurante_bar_restaurante bar_botella_abierta",
          "restaurante_bar_restaurante bar_botella_abierta",
          "publica_numero_informacion_contrato_2022"
         ],
         "marker": {
          "color": "black"
         },
         "mode": "markers",
         "showlegend": false,
         "type": "scatter",
         "x": [
          0.44790244602501683,
          0.9961672028492701,
          1.0007376482146508,
          1.0614472984800338,
          1.2333155330540864
         ],
         "y": [
          -20,
          -110,
          -100,
          -85,
          -66.25
         ]
        }
       ],
       "layout": {
        "autosize": false,
        "height": 380,
        "hoverlabel": {
         "bgcolor": "white",
         "font": {
          "family": "Rockwell",
          "size": 16
         }
        },
        "hovermode": "closest",
        "margin": {
         "b": 20,
         "l": 20,
         "r": 20,
         "t": 60
        },
        "plot_bgcolor": "#ECEFF1",
        "showlegend": false,
        "template": {
         "data": {
          "bar": [
           {
            "error_x": {
             "color": "#2a3f5f"
            },
            "error_y": {
             "color": "#2a3f5f"
            },
            "marker": {
             "line": {
              "color": "white",
              "width": 0.5
             },
             "pattern": {
              "fillmode": "overlay",
              "size": 10,
              "solidity": 0.2
             }
            },
            "type": "bar"
           }
          ],
          "barpolar": [
           {
            "marker": {
             "line": {
              "color": "white",
              "width": 0.5
             },
             "pattern": {
              "fillmode": "overlay",
              "size": 10,
              "solidity": 0.2
             }
            },
            "type": "barpolar"
           }
          ],
          "carpet": [
           {
            "aaxis": {
             "endlinecolor": "#2a3f5f",
             "gridcolor": "#C8D4E3",
             "linecolor": "#C8D4E3",
             "minorgridcolor": "#C8D4E3",
             "startlinecolor": "#2a3f5f"
            },
            "baxis": {
             "endlinecolor": "#2a3f5f",
             "gridcolor": "#C8D4E3",
             "linecolor": "#C8D4E3",
             "minorgridcolor": "#C8D4E3",
             "startlinecolor": "#2a3f5f"
            },
            "type": "carpet"
           }
          ],
          "choropleth": [
           {
            "colorbar": {
             "outlinewidth": 0,
             "ticks": ""
            },
            "type": "choropleth"
           }
          ],
          "contour": [
           {
            "colorbar": {
             "outlinewidth": 0,
             "ticks": ""
            },
            "colorscale": [
             [
              0,
              "#0d0887"
             ],
             [
              0.1111111111111111,
              "#46039f"
             ],
             [
              0.2222222222222222,
              "#7201a8"
             ],
             [
              0.3333333333333333,
              "#9c179e"
             ],
             [
              0.4444444444444444,
              "#bd3786"
             ],
             [
              0.5555555555555556,
              "#d8576b"
             ],
             [
              0.6666666666666666,
              "#ed7953"
             ],
             [
              0.7777777777777778,
              "#fb9f3a"
             ],
             [
              0.8888888888888888,
              "#fdca26"
             ],
             [
              1,
              "#f0f921"
             ]
            ],
            "type": "contour"
           }
          ],
          "contourcarpet": [
           {
            "colorbar": {
             "outlinewidth": 0,
             "ticks": ""
            },
            "type": "contourcarpet"
           }
          ],
          "heatmap": [
           {
            "colorbar": {
             "outlinewidth": 0,
             "ticks": ""
            },
            "colorscale": [
             [
              0,
              "#0d0887"
             ],
             [
              0.1111111111111111,
              "#46039f"
             ],
             [
              0.2222222222222222,
              "#7201a8"
             ],
             [
              0.3333333333333333,
              "#9c179e"
             ],
             [
              0.4444444444444444,
              "#bd3786"
             ],
             [
              0.5555555555555556,
              "#d8576b"
             ],
             [
              0.6666666666666666,
              "#ed7953"
             ],
             [
              0.7777777777777778,
              "#fb9f3a"
             ],
             [
              0.8888888888888888,
              "#fdca26"
             ],
             [
              1,
              "#f0f921"
             ]
            ],
            "type": "heatmap"
           }
          ],
          "heatmapgl": [
           {
            "colorbar": {
             "outlinewidth": 0,
             "ticks": ""
            },
            "colorscale": [
             [
              0,
              "#0d0887"
             ],
             [
              0.1111111111111111,
              "#46039f"
             ],
             [
              0.2222222222222222,
              "#7201a8"
             ],
             [
              0.3333333333333333,
              "#9c179e"
             ],
             [
              0.4444444444444444,
              "#bd3786"
             ],
             [
              0.5555555555555556,
              "#d8576b"
             ],
             [
              0.6666666666666666,
              "#ed7953"
             ],
             [
              0.7777777777777778,
              "#fb9f3a"
             ],
             [
              0.8888888888888888,
              "#fdca26"
             ],
             [
              1,
              "#f0f921"
             ]
            ],
            "type": "heatmapgl"
           }
          ],
          "histogram": [
           {
            "marker": {
             "pattern": {
              "fillmode": "overlay",
              "size": 10,
              "solidity": 0.2
             }
            },
            "type": "histogram"
           }
          ],
          "histogram2d": [
           {
            "colorbar": {
             "outlinewidth": 0,
             "ticks": ""
            },
            "colorscale": [
             [
              0,
              "#0d0887"
             ],
             [
              0.1111111111111111,
              "#46039f"
             ],
             [
              0.2222222222222222,
              "#7201a8"
             ],
             [
              0.3333333333333333,
              "#9c179e"
             ],
             [
              0.4444444444444444,
              "#bd3786"
             ],
             [
              0.5555555555555556,
              "#d8576b"
             ],
             [
              0.6666666666666666,
              "#ed7953"
             ],
             [
              0.7777777777777778,
              "#fb9f3a"
             ],
             [
              0.8888888888888888,
              "#fdca26"
             ],
             [
              1,
              "#f0f921"
             ]
            ],
            "type": "histogram2d"
           }
          ],
          "histogram2dcontour": [
           {
            "colorbar": {
             "outlinewidth": 0,
             "ticks": ""
            },
            "colorscale": [
             [
              0,
              "#0d0887"
             ],
             [
              0.1111111111111111,
              "#46039f"
             ],
             [
              0.2222222222222222,
              "#7201a8"
             ],
             [
              0.3333333333333333,
              "#9c179e"
             ],
             [
              0.4444444444444444,
              "#bd3786"
             ],
             [
              0.5555555555555556,
              "#d8576b"
             ],
             [
              0.6666666666666666,
              "#ed7953"
             ],
             [
              0.7777777777777778,
              "#fb9f3a"
             ],
             [
              0.8888888888888888,
              "#fdca26"
             ],
             [
              1,
              "#f0f921"
             ]
            ],
            "type": "histogram2dcontour"
           }
          ],
          "mesh3d": [
           {
            "colorbar": {
             "outlinewidth": 0,
             "ticks": ""
            },
            "type": "mesh3d"
           }
          ],
          "parcoords": [
           {
            "line": {
             "colorbar": {
              "outlinewidth": 0,
              "ticks": ""
             }
            },
            "type": "parcoords"
           }
          ],
          "pie": [
           {
            "automargin": true,
            "type": "pie"
           }
          ],
          "scatter": [
           {
            "fillpattern": {
             "fillmode": "overlay",
             "size": 10,
             "solidity": 0.2
            },
            "type": "scatter"
           }
          ],
          "scatter3d": [
           {
            "line": {
             "colorbar": {
              "outlinewidth": 0,
              "ticks": ""
             }
            },
            "marker": {
             "colorbar": {
              "outlinewidth": 0,
              "ticks": ""
             }
            },
            "type": "scatter3d"
           }
          ],
          "scattercarpet": [
           {
            "marker": {
             "colorbar": {
              "outlinewidth": 0,
              "ticks": ""
             }
            },
            "type": "scattercarpet"
           }
          ],
          "scattergeo": [
           {
            "marker": {
             "colorbar": {
              "outlinewidth": 0,
              "ticks": ""
             }
            },
            "type": "scattergeo"
           }
          ],
          "scattergl": [
           {
            "marker": {
             "colorbar": {
              "outlinewidth": 0,
              "ticks": ""
             }
            },
            "type": "scattergl"
           }
          ],
          "scattermapbox": [
           {
            "marker": {
             "colorbar": {
              "outlinewidth": 0,
              "ticks": ""
             }
            },
            "type": "scattermapbox"
           }
          ],
          "scatterpolar": [
           {
            "marker": {
             "colorbar": {
              "outlinewidth": 0,
              "ticks": ""
             }
            },
            "type": "scatterpolar"
           }
          ],
          "scatterpolargl": [
           {
            "marker": {
             "colorbar": {
              "outlinewidth": 0,
              "ticks": ""
             }
            },
            "type": "scatterpolargl"
           }
          ],
          "scatterternary": [
           {
            "marker": {
             "colorbar": {
              "outlinewidth": 0,
              "ticks": ""
             }
            },
            "type": "scatterternary"
           }
          ],
          "surface": [
           {
            "colorbar": {
             "outlinewidth": 0,
             "ticks": ""
            },
            "colorscale": [
             [
              0,
              "#0d0887"
             ],
             [
              0.1111111111111111,
              "#46039f"
             ],
             [
              0.2222222222222222,
              "#7201a8"
             ],
             [
              0.3333333333333333,
              "#9c179e"
             ],
             [
              0.4444444444444444,
              "#bd3786"
             ],
             [
              0.5555555555555556,
              "#d8576b"
             ],
             [
              0.6666666666666666,
              "#ed7953"
             ],
             [
              0.7777777777777778,
              "#fb9f3a"
             ],
             [
              0.8888888888888888,
              "#fdca26"
             ],
             [
              1,
              "#f0f921"
             ]
            ],
            "type": "surface"
           }
          ],
          "table": [
           {
            "cells": {
             "fill": {
              "color": "#EBF0F8"
             },
             "line": {
              "color": "white"
             }
            },
            "header": {
             "fill": {
              "color": "#C8D4E3"
             },
             "line": {
              "color": "white"
             }
            },
            "type": "table"
           }
          ]
         },
         "layout": {
          "annotationdefaults": {
           "arrowcolor": "#2a3f5f",
           "arrowhead": 0,
           "arrowwidth": 1
          },
          "autotypenumbers": "strict",
          "coloraxis": {
           "colorbar": {
            "outlinewidth": 0,
            "ticks": ""
           }
          },
          "colorscale": {
           "diverging": [
            [
             0,
             "#8e0152"
            ],
            [
             0.1,
             "#c51b7d"
            ],
            [
             0.2,
             "#de77ae"
            ],
            [
             0.3,
             "#f1b6da"
            ],
            [
             0.4,
             "#fde0ef"
            ],
            [
             0.5,
             "#f7f7f7"
            ],
            [
             0.6,
             "#e6f5d0"
            ],
            [
             0.7,
             "#b8e186"
            ],
            [
             0.8,
             "#7fbc41"
            ],
            [
             0.9,
             "#4d9221"
            ],
            [
             1,
             "#276419"
            ]
           ],
           "sequential": [
            [
             0,
             "#0d0887"
            ],
            [
             0.1111111111111111,
             "#46039f"
            ],
            [
             0.2222222222222222,
             "#7201a8"
            ],
            [
             0.3333333333333333,
             "#9c179e"
            ],
            [
             0.4444444444444444,
             "#bd3786"
            ],
            [
             0.5555555555555556,
             "#d8576b"
            ],
            [
             0.6666666666666666,
             "#ed7953"
            ],
            [
             0.7777777777777778,
             "#fb9f3a"
            ],
            [
             0.8888888888888888,
             "#fdca26"
            ],
            [
             1,
             "#f0f921"
            ]
           ],
           "sequentialminus": [
            [
             0,
             "#0d0887"
            ],
            [
             0.1111111111111111,
             "#46039f"
            ],
            [
             0.2222222222222222,
             "#7201a8"
            ],
            [
             0.3333333333333333,
             "#9c179e"
            ],
            [
             0.4444444444444444,
             "#bd3786"
            ],
            [
             0.5555555555555556,
             "#d8576b"
            ],
            [
             0.6666666666666666,
             "#ed7953"
            ],
            [
             0.7777777777777778,
             "#fb9f3a"
            ],
            [
             0.8888888888888888,
             "#fdca26"
            ],
            [
             1,
             "#f0f921"
            ]
           ]
          },
          "colorway": [
           "#636efa",
           "#EF553B",
           "#00cc96",
           "#ab63fa",
           "#FFA15A",
           "#19d3f3",
           "#FF6692",
           "#B6E880",
           "#FF97FF",
           "#FECB52"
          ],
          "font": {
           "color": "#2a3f5f"
          },
          "geo": {
           "bgcolor": "white",
           "lakecolor": "white",
           "landcolor": "white",
           "showlakes": true,
           "showland": true,
           "subunitcolor": "#C8D4E3"
          },
          "hoverlabel": {
           "align": "left"
          },
          "hovermode": "closest",
          "mapbox": {
           "style": "light"
          },
          "paper_bgcolor": "white",
          "plot_bgcolor": "white",
          "polar": {
           "angularaxis": {
            "gridcolor": "#EBF0F8",
            "linecolor": "#EBF0F8",
            "ticks": ""
           },
           "bgcolor": "white",
           "radialaxis": {
            "gridcolor": "#EBF0F8",
            "linecolor": "#EBF0F8",
            "ticks": ""
           }
          },
          "scene": {
           "xaxis": {
            "backgroundcolor": "white",
            "gridcolor": "#DFE8F3",
            "gridwidth": 2,
            "linecolor": "#EBF0F8",
            "showbackground": true,
            "ticks": "",
            "zerolinecolor": "#EBF0F8"
           },
           "yaxis": {
            "backgroundcolor": "white",
            "gridcolor": "#DFE8F3",
            "gridwidth": 2,
            "linecolor": "#EBF0F8",
            "showbackground": true,
            "ticks": "",
            "zerolinecolor": "#EBF0F8"
           },
           "zaxis": {
            "backgroundcolor": "white",
            "gridcolor": "#DFE8F3",
            "gridwidth": 2,
            "linecolor": "#EBF0F8",
            "showbackground": true,
            "ticks": "",
            "zerolinecolor": "#EBF0F8"
           }
          },
          "shapedefaults": {
           "line": {
            "color": "#2a3f5f"
           }
          },
          "ternary": {
           "aaxis": {
            "gridcolor": "#DFE8F3",
            "linecolor": "#A2B1C6",
            "ticks": ""
           },
           "baxis": {
            "gridcolor": "#DFE8F3",
            "linecolor": "#A2B1C6",
            "ticks": ""
           },
           "bgcolor": "white",
           "caxis": {
            "gridcolor": "#DFE8F3",
            "linecolor": "#A2B1C6",
            "ticks": ""
           }
          },
          "title": {
           "x": 0.05
          },
          "xaxis": {
           "automargin": true,
           "gridcolor": "#EBF0F8",
           "linecolor": "#EBF0F8",
           "ticks": "",
           "title": {
            "standoff": 15
           },
           "zerolinecolor": "#EBF0F8",
           "zerolinewidth": 2
          },
          "yaxis": {
           "automargin": true,
           "gridcolor": "#EBF0F8",
           "linecolor": "#EBF0F8",
           "ticks": "",
           "title": {
            "standoff": 15
           },
           "zerolinecolor": "#EBF0F8",
           "zerolinewidth": 2
          }
         }
        },
        "title": {
         "font": {
          "color": "#000000",
          "size": 22
         },
         "text": "Hierarchical structure of the topics",
         "x": 0.5,
         "xanchor": "center",
         "y": 0.975,
         "yanchor": "top"
        },
        "width": 1200,
        "xaxis": {
         "autorange": true,
         "mirror": "allticks",
         "range": [
          0,
          1.3034504292470763
         ],
         "rangemode": "tozero",
         "showgrid": false,
         "showline": true,
         "showticklabels": true,
         "ticks": "outside",
         "type": "linear",
         "zeroline": false
        },
        "yaxis": {
         "mirror": "allticks",
         "range": [
          -120,
          0
         ],
         "rangemode": "tozero",
         "showgrid": false,
         "showline": true,
         "showticklabels": true,
         "tickmode": "array",
         "ticks": "outside",
         "ticktext": [
          "5_png_simple_licencia funci...",
          "9_informacion_articulos_sim...",
          "7_simple_simple dictamen_di...",
          "1_adjudicacion_contrato_con...",
          "4_obra_publica_numero obra",
          "0_informacion_municipio_ayu...",
          "8_cada_cada uno_uno",
          "11_animal_animales_perros",
          "3_restaurante_bar_restauran...",
          "2_sueldo_diputado_distrito",
          "10_quehacer gubernamental a...",
          "6_solicitar testigos fotos_..."
         ],
         "tickvals": [
          -5,
          -15,
          -25,
          -35,
          -45,
          -55,
          -65,
          -75,
          -85,
          -95,
          -105,
          -115
         ],
         "type": "linear",
         "zeroline": false
        }
       }
      },
      "image/png": "[encoded data removed]",
      "text/html": [
       "<div>                            <div id=\"e4a08ba7-5f33-488e-a1bf-0321358f4112\" class=\"plotly-graph-div\" style=\"height:380px; width:1200px;\"></div>            <script type=\"text/javascript\">                require([\"plotly\"], function(Plotly) {                    window.PLOTLYENV=window.PLOTLYENV || {};                                    if (document.getElementById(\"e4a08ba7-5f33-488e-a1bf-0321358f4112\")) {                    Plotly.newPlot(                        \"e4a08ba7-5f33-488e-a1bf-0321358f4112\",                        [{\"hoverinfo\":\"text\",\"marker\":{\"color\":\"rgb(61,153,112)\"},\"mode\":\"lines\",\"text\":[\"informacion_articulos_simple_png medio presente escrito base dispuesto_adjunto image1 png medio presente\",\"\",\"\",\"simple_simple dictamen_dictamen_articulos_dictamen bomberos\"],\"x\":[0.0,0.44790244602501683,0.44790244602501683,0.0],\"xaxis\":\"x\",\"y\":[-15.0,-15.0,-25.0,-25.0],\"yaxis\":\"y\",\"type\":\"scatter\"},{\"hoverinfo\":\"text\",\"marker\":{\"color\":\"rgb(61,153,112)\"},\"mode\":\"lines\",\"text\":[\"png_simple_licencia funcionamiento documento caso le_permita publicitar_licencia funcionamiento documento caso le permita\",\"\",\"\",\"simple_articulos_informacion_simple dictamen_dictamen\"],\"x\":[0.0,0.9471212859602907,0.9471212859602907,0.44790244602501683],\"xaxis\":\"x\",\"y\":[-5.0,-5.0,-20.0,-20.0],\"yaxis\":\"y\",\"type\":\"scatter\"},{\"hoverinfo\":\"text\",\"marker\":{\"color\":\"rgb(255,65,54)\"},\"mode\":\"lines\",\"text\":[\"adjudicacion_contrato_contrato prestador_prestador_cma\",\"\",\"\",\"obra_publica_numero obra_smimp 2022_smimp\"],\"x\":[0.0,0.4933748436351213,0.4933748436351213,0.0],\"xaxis\":\"x\",\"y\":[-35.0,-35.0,-45.0,-45.0],\"yaxis\":\"y\",\"type\":\"scatter\"},{\"hoverinfo\":\"text\",\"marker\":{\"color\":\"rgb(255,65,54)\"},\"mode\":\"lines\",\"text\":[\"contrato_publica_2022_numero_adjudicacion\",\"\",\"\",\"informacion_municipio_ayuntamiento_municipal_publica\"],\"x\":[0.4933748436351213,0.7296318461217743,0.7296318461217743,0.0],\"xaxis\":\"x\",\"y\":[-40.0,-40.0,-55.0,-55.0],\"yaxis\":\"y\",\"type\":\"scatter\"},{\"hoverinfo\":\"text\",\"marker\":{\"color\":\"rgb(35,205,205)\"},\"mode\":\"lines\",\"text\":[\"cada_cada uno_uno_mes cada_desglosado mes cada\",\"\",\"\",\"animal_animales_perros_cuantos_proteccion animal\"],\"x\":[0.0,0.8635099664256605,0.8635099664256605,0.0],\"xaxis\":\"x\",\"y\":[-65.0,-65.0,-75.0,-75.0],\"yaxis\":\"y\",\"type\":\"scatter\"},{\"hoverinfo\":\"text\",\"marker\":{\"color\":\"rgb(133,20,75)\"},\"mode\":\"lines\",\"text\":[\"restaurante_bar_restaurante bar_botella_abierta\",\"\",\"\",\"sueldo_diputado_distrito_sueldo diputado_senador\"],\"x\":[0.0,0.995194569726205,0.995194569726205,0.0],\"xaxis\":\"x\",\"y\":[-85.0,-85.0,-95.0,-95.0],\"yaxis\":\"y\",\"type\":\"scatter\"},{\"hoverinfo\":\"text\",\"marker\":{\"color\":\"rgb(255,220,0)\"},\"mode\":\"lines\",\"text\":[\"quehacer gubernamental ayuntamiento municipio_gubernamental ayuntamiento municipio_version publica contrato_quehacer gubernamental ayuntamiento_publica contrato\",\"\",\"\",\"solicitar testigos fotos_testigos fotos_solicitar testigos fotos facturas_solicitar testigos_permito solicitar testigos fotos facturas\"],\"x\":[0.0,0.9961672028492701,0.9961672028492701,0.0],\"xaxis\":\"x\",\"y\":[-105.0,-105.0,-115.0,-115.0],\"yaxis\":\"y\",\"type\":\"scatter\"},{\"hoverinfo\":\"text\",\"marker\":{\"color\":\"rgb(0,116,217)\"},\"mode\":\"lines\",\"text\":[\"restaurante_bar_restaurante bar_botella_abierta\",\"\",\"\",\"realizacion contrato_fotos facturas_solicitar testigos fotos facturas_solicitar testigos fotos_permito solicitar testigos\"],\"x\":[0.995194569726205,1.0007376482146508,1.0007376482146508,0.9961672028492701],\"xaxis\":\"x\",\"y\":[-90.0,-90.0,-110.0,-110.0],\"yaxis\":\"y\",\"type\":\"scatter\"},{\"hoverinfo\":\"text\",\"marker\":{\"color\":\"rgb(0,116,217)\"},\"mode\":\"lines\",\"text\":[\"cada_cada uno_uno_mes cada_desglosado mes cada\",\"\",\"\",\"restaurante_bar_restaurante bar_botella_abierta\"],\"x\":[0.8635099664256605,1.0614472984800338,1.0614472984800338,1.0007376482146508],\"xaxis\":\"x\",\"y\":[-70.0,-70.0,-100.0,-100.0],\"yaxis\":\"y\",\"type\":\"scatter\"},{\"hoverinfo\":\"text\",\"marker\":{\"color\":\"rgb(0,116,217)\"},\"mode\":\"lines\",\"text\":[\"publica_numero_informacion_contrato_2022\",\"\",\"\",\"restaurante_bar_restaurante bar_botella_abierta\"],\"x\":[0.7296318461217743,1.2333155330540864,1.2333155330540864,1.0614472984800338],\"xaxis\":\"x\",\"y\":[-47.5,-47.5,-85.0,-85.0],\"yaxis\":\"y\",\"type\":\"scatter\"},{\"hoverinfo\":\"text\",\"marker\":{\"color\":\"rgb(0,116,217)\"},\"mode\":\"lines\",\"text\":[\"simple_png_informacion_adjunto image1_adjunto image1 png\",\"\",\"\",\"publica_numero_informacion_contrato_2022\"],\"x\":[0.9471212859602907,1.2491280489012493,1.2491280489012493,1.2333155330540864],\"xaxis\":\"x\",\"y\":[-12.5,-12.5,-66.25,-66.25],\"yaxis\":\"y\",\"type\":\"scatter\"},{\"hoverinfo\":\"text\",\"hovertext\":[\"contrato_publica_2022_numero_adjudicacion\",\"restaurante_bar_restaurante bar_botella_abierta\",\"cada_cada uno_uno_mes cada_desglosado mes cada\",\"publica_numero_informacion_contrato_2022\",\"simple_png_informacion_adjunto image1_adjunto image1 png\"],\"marker\":{\"color\":\"black\"},\"mode\":\"markers\",\"showlegend\":false,\"x\":[0.4933748436351213,0.995194569726205,0.8635099664256605,0.7296318461217743,0.9471212859602907],\"y\":[-40.0,-90.0,-70.0,-47.5,-12.5],\"type\":\"scatter\"},{\"hoverinfo\":\"text\",\"hovertext\":[\"simple_articulos_informacion_simple dictamen_dictamen\",\"realizacion contrato_fotos facturas_solicitar testigos fotos facturas_solicitar testigos fotos_permito solicitar testigos\",\"restaurante_bar_restaurante bar_botella_abierta\",\"restaurante_bar_restaurante bar_botella_abierta\",\"publica_numero_informacion_contrato_2022\"],\"marker\":{\"color\":\"black\"},\"mode\":\"markers\",\"showlegend\":false,\"x\":[0.44790244602501683,0.9961672028492701,1.0007376482146508,1.0614472984800338,1.2333155330540864],\"y\":[-20.0,-110.0,-100.0,-85.0,-66.25],\"type\":\"scatter\"}],                        {\"autosize\":false,\"height\":380,\"hovermode\":\"closest\",\"showlegend\":false,\"width\":1200,\"xaxis\":{\"mirror\":\"allticks\",\"rangemode\":\"tozero\",\"showgrid\":false,\"showline\":true,\"showticklabels\":true,\"ticks\":\"outside\",\"type\":\"linear\",\"zeroline\":false},\"yaxis\":{\"mirror\":\"allticks\",\"rangemode\":\"tozero\",\"showgrid\":false,\"showline\":true,\"showticklabels\":true,\"tickmode\":\"array\",\"ticks\":\"outside\",\"ticktext\":[\"5_png_simple_licencia funci...\",\"9_informacion_articulos_sim...\",\"7_simple_simple dictamen_di...\",\"1_adjudicacion_contrato_con...\",\"4_obra_publica_numero obra\",\"0_informacion_municipio_ayu...\",\"8_cada_cada uno_uno\",\"11_animal_animales_perros\",\"3_restaurante_bar_restauran...\",\"2_sueldo_diputado_distrito\",\"10_quehacer gubernamental a...\",\"6_solicitar testigos fotos_...\"],\"tickvals\":[-5.0,-15.0,-25.0,-35.0,-45.0,-55.0,-65.0,-75.0,-85.0,-95.0,-105.0,-115.0],\"type\":\"linear\",\"zeroline\":false,\"range\":[-120.0,0.0]},\"template\":{\"data\":{\"barpolar\":[{\"marker\":{\"line\":{\"color\":\"white\",\"width\":0.5},\"pattern\":{\"fillmode\":\"overlay\",\"size\":10,\"solidity\":0.2}},\"type\":\"barpolar\"}],\"bar\":[{\"error_x\":{\"color\":\"#2a3f5f\"},\"error_y\":{\"color\":\"#2a3f5f\"},\"marker\":{\"line\":{\"color\":\"white\",\"width\":0.5},\"pattern\":{\"fillmode\":\"overlay\",\"size\":10,\"solidity\":0.2}},\"type\":\"bar\"}],\"carpet\":[{\"aaxis\":{\"endlinecolor\":\"#2a3f5f\",\"gridcolor\":\"#C8D4E3\",\"linecolor\":\"#C8D4E3\",\"minorgridcolor\":\"#C8D4E3\",\"startlinecolor\":\"#2a3f5f\"},\"baxis\":{\"endlinecolor\":\"#2a3f5f\",\"gridcolor\":\"#C8D4E3\",\"linecolor\":\"#C8D4E3\",\"minorgridcolor\":\"#C8D4E3\",\"startlinecolor\":\"#2a3f5f\"},\"type\":\"carpet\"}],\"choropleth\":[{\"colorbar\":{\"outlinewidth\":0,\"ticks\":\"\"},\"type\":\"choropleth\"}],\"contourcarpet\":[{\"colorbar\":{\"outlinewidth\":0,\"ticks\":\"\"},\"type\":\"contourcarpet\"}],\"contour\":[{\"colorbar\":{\"outlinewidth\":0,\"ticks\":\"\"},\"colorscale\":[[0.0,\"#0d0887\"],[0.1111111111111111,\"#46039f\"],[0.2222222222222222,\"#7201a8\"],[0.3333333333333333,\"#9c179e\"],[0.4444444444444444,\"#bd3786\"],[0.5555555555555556,\"#d8576b\"],[0.6666666666666666,\"#ed7953\"],[0.7777777777777778,\"#fb9f3a\"],[0.8888888888888888,\"#fdca26\"],[1.0,\"#f0f921\"]],\"type\":\"contour\"}],\"heatmapgl\":[{\"colorbar\":{\"outlinewidth\":0,\"ticks\":\"\"},\"colorscale\":[[0.0,\"#0d0887\"],[0.1111111111111111,\"#46039f\"],[0.2222222222222222,\"#7201a8\"],[0.3333333333333333,\"#9c179e\"],[0.4444444444444444,\"#bd3786\"],[0.5555555555555556,\"#d8576b\"],[0.6666666666666666,\"#ed7953\"],[0.7777777777777778,\"#fb9f3a\"],[0.8888888888888888,\"#fdca26\"],[1.0,\"#f0f921\"]],\"type\":\"heatmapgl\"}],\"heatmap\":[{\"colorbar\":{\"outlinewidth\":0,\"ticks\":\"\"},\"colorscale\":[[0.0,\"#0d0887\"],[0.1111111111111111,\"#46039f\"],[0.2222222222222222,\"#7201a8\"],[0.3333333333333333,\"#9c179e\"],[0.4444444444444444,\"#bd3786\"],[0.5555555555555556,\"#d8576b\"],[0.6666666666666666,\"#ed7953\"],[0.7777777777777778,\"#fb9f3a\"],[0.8888888888888888,\"#fdca26\"],[1.0,\"#f0f921\"]],\"type\":\"heatmap\"}],\"histogram2dcontour\":[{\"colorbar\":{\"outlinewidth\":0,\"ticks\":\"\"},\"colorscale\":[[0.0,\"#0d0887\"],[0.1111111111111111,\"#46039f\"],[0.2222222222222222,\"#7201a8\"],[0.3333333333333333,\"#9c179e\"],[0.4444444444444444,\"#bd3786\"],[0.5555555555555556,\"#d8576b\"],[0.6666666666666666,\"#ed7953\"],[0.7777777777777778,\"#fb9f3a\"],[0.8888888888888888,\"#fdca26\"],[1.0,\"#f0f921\"]],\"type\":\"histogram2dcontour\"}],\"histogram2d\":[{\"colorbar\":{\"outlinewidth\":0,\"ticks\":\"\"},\"colorscale\":[[0.0,\"#0d0887\"],[0.1111111111111111,\"#46039f\"],[0.2222222222222222,\"#7201a8\"],[0.3333333333333333,\"#9c179e\"],[0.4444444444444444,\"#bd3786\"],[0.5555555555555556,\"#d8576b\"],[0.6666666666666666,\"#ed7953\"],[0.7777777777777778,\"#fb9f3a\"],[0.8888888888888888,\"#fdca26\"],[1.0,\"#f0f921\"]],\"type\":\"histogram2d\"}],\"histogram\":[{\"marker\":{\"pattern\":{\"fillmode\":\"overlay\",\"size\":10,\"solidity\":0.2}},\"type\":\"histogram\"}],\"mesh3d\":[{\"colorbar\":{\"outlinewidth\":0,\"ticks\":\"\"},\"type\":\"mesh3d\"}],\"parcoords\":[{\"line\":{\"colorbar\":{\"outlinewidth\":0,\"ticks\":\"\"}},\"type\":\"parcoords\"}],\"pie\":[{\"automargin\":true,\"type\":\"pie\"}],\"scatter3d\":[{\"line\":{\"colorbar\":{\"outlinewidth\":0,\"ticks\":\"\"}},\"marker\":{\"colorbar\":{\"outlinewidth\":0,\"ticks\":\"\"}},\"type\":\"scatter3d\"}],\"scattercarpet\":[{\"marker\":{\"colorbar\":{\"outlinewidth\":0,\"ticks\":\"\"}},\"type\":\"scattercarpet\"}],\"scattergeo\":[{\"marker\":{\"colorbar\":{\"outlinewidth\":0,\"ticks\":\"\"}},\"type\":\"scattergeo\"}],\"scattergl\":[{\"marker\":{\"colorbar\":{\"outlinewidth\":0,\"ticks\":\"\"}},\"type\":\"scattergl\"}],\"scattermapbox\":[{\"marker\":{\"colorbar\":{\"outlinewidth\":0,\"ticks\":\"\"}},\"type\":\"scattermapbox\"}],\"scatterpolargl\":[{\"marker\":{\"colorbar\":{\"outlinewidth\":0,\"ticks\":\"\"}},\"type\":\"scatterpolargl\"}],\"scatterpolar\":[{\"marker\":{\"colorbar\":{\"outlinewidth\":0,\"ticks\":\"\"}},\"type\":\"scatterpolar\"}],\"scatter\":[{\"fillpattern\":{\"fillmode\":\"overlay\",\"size\":10,\"solidity\":0.2},\"type\":\"scatter\"}],\"scatterternary\":[{\"marker\":{\"colorbar\":{\"outlinewidth\":0,\"ticks\":\"\"}},\"type\":\"scatterternary\"}],\"surface\":[{\"colorbar\":{\"outlinewidth\":0,\"ticks\":\"\"},\"colorscale\":[[0.0,\"#0d0887\"],[0.1111111111111111,\"#46039f\"],[0.2222222222222222,\"#7201a8\"],[0.3333333333333333,\"#9c179e\"],[0.4444444444444444,\"#bd3786\"],[0.5555555555555556,\"#d8576b\"],[0.6666666666666666,\"#ed7953\"],[0.7777777777777778,\"#fb9f3a\"],[0.8888888888888888,\"#fdca26\"],[1.0,\"#f0f921\"]],\"type\":\"surface\"}],\"table\":[{\"cells\":{\"fill\":{\"color\":\"#EBF0F8\"},\"line\":{\"color\":\"white\"}},\"header\":{\"fill\":{\"color\":\"#C8D4E3\"},\"line\":{\"color\":\"white\"}},\"type\":\"table\"}]},\"layout\":{\"annotationdefaults\":{\"arrowcolor\":\"#2a3f5f\",\"arrowhead\":0,\"arrowwidth\":1},\"autotypenumbers\":\"strict\",\"coloraxis\":{\"colorbar\":{\"outlinewidth\":0,\"ticks\":\"\"}},\"colorscale\":{\"diverging\":[[0,\"#8e0152\"],[0.1,\"#c51b7d\"],[0.2,\"#de77ae\"],[0.3,\"#f1b6da\"],[0.4,\"#fde0ef\"],[0.5,\"#f7f7f7\"],[0.6,\"#e6f5d0\"],[0.7,\"#b8e186\"],[0.8,\"#7fbc41\"],[0.9,\"#4d9221\"],[1,\"#276419\"]],\"sequential\":[[0.0,\"#0d0887\"],[0.1111111111111111,\"#46039f\"],[0.2222222222222222,\"#7201a8\"],[0.3333333333333333,\"#9c179e\"],[0.4444444444444444,\"#bd3786\"],[0.5555555555555556,\"#d8576b\"],[0.6666666666666666,\"#ed7953\"],[0.7777777777777778,\"#fb9f3a\"],[0.8888888888888888,\"#fdca26\"],[1.0,\"#f0f921\"]],\"sequentialminus\":[[0.0,\"#0d0887\"],[0.1111111111111111,\"#46039f\"],[0.2222222222222222,\"#7201a8\"],[0.3333333333333333,\"#9c179e\"],[0.4444444444444444,\"#bd3786\"],[0.5555555555555556,\"#d8576b\"],[0.6666666666666666,\"#ed7953\"],[0.7777777777777778,\"#fb9f3a\"],[0.8888888888888888,\"#fdca26\"],[1.0,\"#f0f921\"]]},\"colorway\":[\"#636efa\",\"#EF553B\",\"#00cc96\",\"#ab63fa\",\"#FFA15A\",\"#19d3f3\",\"#FF6692\",\"#B6E880\",\"#FF97FF\",\"#FECB52\"],\"font\":{\"color\":\"#2a3f5f\"},\"geo\":{\"bgcolor\":\"white\",\"lakecolor\":\"white\",\"landcolor\":\"white\",\"showlakes\":true,\"showland\":true,\"subunitcolor\":\"#C8D4E3\"},\"hoverlabel\":{\"align\":\"left\"},\"hovermode\":\"closest\",\"mapbox\":{\"style\":\"light\"},\"paper_bgcolor\":\"white\",\"plot_bgcolor\":\"white\",\"polar\":{\"angularaxis\":{\"gridcolor\":\"#EBF0F8\",\"linecolor\":\"#EBF0F8\",\"ticks\":\"\"},\"bgcolor\":\"white\",\"radialaxis\":{\"gridcolor\":\"#EBF0F8\",\"linecolor\":\"#EBF0F8\",\"ticks\":\"\"}},\"scene\":{\"xaxis\":{\"backgroundcolor\":\"white\",\"gridcolor\":\"#DFE8F3\",\"gridwidth\":2,\"linecolor\":\"#EBF0F8\",\"showbackground\":true,\"ticks\":\"\",\"zerolinecolor\":\"#EBF0F8\"},\"yaxis\":{\"backgroundcolor\":\"white\",\"gridcolor\":\"#DFE8F3\",\"gridwidth\":2,\"linecolor\":\"#EBF0F8\",\"showbackground\":true,\"ticks\":\"\",\"zerolinecolor\":\"#EBF0F8\"},\"zaxis\":{\"backgroundcolor\":\"white\",\"gridcolor\":\"#DFE8F3\",\"gridwidth\":2,\"linecolor\":\"#EBF0F8\",\"showbackground\":true,\"ticks\":\"\",\"zerolinecolor\":\"#EBF0F8\"}},\"shapedefaults\":{\"line\":{\"color\":\"#2a3f5f\"}},\"ternary\":{\"aaxis\":{\"gridcolor\":\"#DFE8F3\",\"linecolor\":\"#A2B1C6\",\"ticks\":\"\"},\"baxis\":{\"gridcolor\":\"#DFE8F3\",\"linecolor\":\"#A2B1C6\",\"ticks\":\"\"},\"bgcolor\":\"white\",\"caxis\":{\"gridcolor\":\"#DFE8F3\",\"linecolor\":\"#A2B1C6\",\"ticks\":\"\"}},\"title\":{\"x\":0.05},\"xaxis\":{\"automargin\":true,\"gridcolor\":\"#EBF0F8\",\"linecolor\":\"#EBF0F8\",\"ticks\":\"\",\"title\":{\"standoff\":15},\"zerolinecolor\":\"#EBF0F8\",\"zerolinewidth\":2},\"yaxis\":{\"automargin\":true,\"gridcolor\":\"#EBF0F8\",\"linecolor\":\"#EBF0F8\",\"ticks\":\"\",\"title\":{\"standoff\":15},\"zerolinecolor\":\"#EBF0F8\",\"zerolinewidth\":2}}},\"title\":{\"font\":{\"size\":22,\"color\":\"#000000\"},\"text\":\"Hierarchical structure of the topics\",\"x\":0.5,\"xanchor\":\"center\",\"yanchor\":\"top\",\"y\":0.975},\"hoverlabel\":{\"font\":{\"size\":16,\"family\":\"Rockwell\"},\"bgcolor\":\"white\"},\"plot_bgcolor\":\"#ECEFF1\",\"margin\":{\"l\":20,\"r\":20,\"t\":60,\"b\":20}},                        {\"responsive\": true}                    ).then(function(){\n",
       "                            \n",
       "var gd = document.getElementById('e4a08ba7-5f33-488e-a1bf-0321358f4112');\n",
       "var x = new MutationObserver(function (mutations, observer) {{\n",
       "        var display = window.getComputedStyle(gd).display;\n",
       "        if (!display || display === 'none') {{\n",
       "            console.log([gd, 'removed!']);\n",
       "            Plotly.purge(gd);\n",
       "            observer.disconnect();\n",
       "        }}\n",
       "}});\n",
       "\n",
       "// Listen for the removal of the full notebook cells\n",
       "var notebookContainer = gd.closest('#notebook-container');\n",
       "if (notebookContainer) {{\n",
       "    x.observe(notebookContainer, {childList: true});\n",
       "}}\n",
       "\n",
       "// Listen for the clearing of the current output cell\n",
       "var outputEl = gd.closest('.output');\n",
       "if (outputEl) {{\n",
       "    x.observe(outputEl, {childList: true});\n",
       "}}\n",
       "\n",
       "                        })                };                });            </script>        </div>"
      ]
     },
     "metadata": {},
     "output_type": "display_data"
    }
   ],
   "source": [
    "from scipy.cluster import hierarchy as sch\n",
    "import pandas as pd\n",
    "\n",
    "linkage_function = lambda x: sch.linkage(x, 'ward', optimal_ordering=True)\n",
    "\n",
    "# Extract hierarchical topics and their representations.\n",
    "# A dataframe that contains a hierarchy of topics represented by their parents and their children.\n",
    "hierarchical_topics: pd.DataFrame = topic_model.hierarchical_topics(docs, linkage_function=linkage_function)\n",
    "\n",
    "fig = topic_model.visualize_hierarchy(\n",
    "    # 'str' the orientation of the figure. Either 'left' or 'bottom'.\n",
    "    orientation='left',\n",
    "\n",
    "    # 'list[int]' a selection of topics to visualize.\n",
    "    topics=None,\n",
    "\n",
    "    # 'int' only select the top n most frequent topics to visualize.\n",
    "    top_n_topics=None,\n",
    "\n",
    "    # 'pd.DataFrame' a dataframe that contains a hierarchy of topics represented by their\n",
    "    # parents and their children.\n",
    "    # NOTE: The hierarchical topic names are only visualized if both 'topics' and 'top_n_topics' are not set.\n",
    "    hierarchical_topics=hierarchical_topics,\n",
    "\n",
    "    # Whether to use custom topic labels that were defined using 'topic_model.set_topic_labels'.\n",
    "    custom_labels=True,\n",
    "\n",
    "    width=1200,\n",
    "    height=1000,\n",
    ")\n",
    "\n",
    "fig.update_layout(\n",
    "    # Adjust left, right, top, bottom margin of the overall figure.\n",
    "    margin=dict(l=20, r=20, t=60, b=20),\n",
    "\n",
    "    title={\n",
    "        'text': \"Hierarchical structure of the topics\",\n",
    "        'y':0.975,\n",
    "        'x':0.5,\n",
    "        'xanchor': 'center',\n",
    "        'yanchor': 'top',\n",
    "        'font': dict(\n",
    "            size=22,\n",
    "            color=\"#000000\"\n",
    "        )\n",
    "    },\n",
    ")\n",
    "\n",
    "fig.show()\n",
    "fig.write_html('heriarchical.html')"
   ]
  },
  {
   "cell_type": "code",
   "execution_count": null,
   "metadata": {},
   "outputs": [],
   "source": []
  },
  {
   "cell_type": "code",
   "execution_count": 30,
   "metadata": {},
   "outputs": [],
   "source": [
    "reduced_embeddings = UMAP(n_neighbors=10, n_components=2, \n",
    "                          min_dist=0.0, metric='cosine').fit_transform(embeddings)"
   ]
  },
  {
   "cell_type": "code",
   "execution_count": 31,
   "metadata": {
    "scrolled": true
   },
   "outputs": [
    {
     "data": {
      "image/png": "[encoded data removed]",
      "text/plain": [
       "<Figure size 1200x1200 with 1 Axes>"
      ]
     },
     "metadata": {},
     "output_type": "display_data"
    }
   ],
   "source": [
    "\n",
    "import datamapplot\n",
    "import matplotlib.pyplot as plt\n",
    "import re\n",
    "llm_labels = [re.sub(r'\\W+', ' ', label[0][0].split(\"\\n\")[0].replace('\"', '')) for label in topic_model.get_topics(full=True)[\"LLM\"].values()]\n",
    "all_labels = [llm_labels[topic+topic_model._outliers] if topic != -1 else \"Unlabelled\" for topic in topics]\n",
    "#all_labels = [llm_labels[topic] if topic != -1 else \"Unlabelled\" for topic in topics]\n",
    "# Run the visualization\n",
    "datamapplot.create_plot(\n",
    "    reduced_embeddings,\n",
    "    all_labels,\n",
    "\n",
    "    use_medoids=True,\n",
    "\n",
    "    # Follows matplotlib’s 'figsize' convention.\n",
    "    # The actual size of the resulting plot (in pixels) will depend on the dots per inch (DPI)\n",
    "    # setting in matplotlib.\n",
    "    # By default that is set to 100 dots per inch for the standard backend, but it can vary.\n",
    "    figsize=(12, 12),\n",
    "    # If you really wish to have explicit control of the size of the resulting plot in pixels.\n",
    "    dpi=100,\n",
    "\n",
    "    title=\"Pidala Info - Puebla\",\n",
    "    sub_title=\"Mapa de datos de pedidos de acceso a la información pública categorizados con BERTopic\",\n",
    "    # Universally set a font family for the plot.\n",
    "    fontfamily=\"Roboto\",\n",
    "\n",
    "    # Takes a dictionary of keyword arguments that is passed through totopic_model.update_topics(docs, topics=new_topics)\n",
    "    # matplotlib’s 'title' 'fontdict' arguments.\n",
    "    title_keywords={\n",
    "        \"fontsize\":36,\n",
    "        \"fontfamily\":\"Roboto Black\"\n",
    "    },\n",
    "    # Takes a dictionary of keyword arguments that is passed through to\n",
    "    # matplotlib’s 'suptitle' 'fontdict' arguments.\n",
    "    sub_title_keywords={\n",
    "        \"fontsize\":18,\n",
    "    },\n",
    "\n",
    "    # Takes a list of text labels to be highlighted.\n",
    "    # Note: these labels need to match the exact text from your labels array that you are passing in.\n",
    "    highlight_labels=[\n",
    "        \"Retinopathy Prematurity Screening\",\n",
    "    ],\n",
    "    # Takes a dictionary of keyword arguments to be applied when styling the labels.\n",
    "    highlight_label_keywords={\n",
    "        \"fontsize\": 12,\n",
    "        \"fontweight\": \"bold\",\n",
    "        \"bbox\": {\"boxstyle\":\"round\"}\n",
    "    },\n",
    "\n",
    "    # By default DataMapPlot tries to automatically choose a size for the text that will allow\n",
    "    # all the labels to be laid out well with no overlapping text. The layout algorithm will try\n",
    "    # to accommodate the size of the text you specify here.\n",
    "    label_font_size=8,\n",
    "    label_wrap_width=16,\n",
    "    label_linespacing=1.25,\n",
    "    # Default is 1.5. Generally, the values of 1.0 and 2.0 are the extremes.\n",
    "    # With 1.0 you will have more labels at the top and bottom.\n",
    "    # With 2.0 you will have more labels on the left and right.\n",
    "    label_direction_bias=1.3,\n",
    "    # Controls how large the margin is around the exact bounding box of a label, which is the\n",
    "    # bounding box used by the algorithm for collision/overlap detection.\n",
    "    # The default is 1.0, which means the margin is the same size as the label itself.\n",
    "    # Generally, the fewer labels you have the larger you can make the margin.\n",
    "    label_margin_factor=2.0,\n",
    "    # Labels are placed in rings around the core data map. This controls the starting radius for\n",
    "    # the first ring. Note: you need to provide a radius in data coordinates from the center of the\n",
    "    # data map.\n",
    "    # The defaul is selected from the data itself, based on the distance from the center of the\n",
    "    # most outlying points. Experiment and let the DataMapPlot algoritm try to clean it up.\n",
    "    label_base_radius=15.0,\n",
    "\n",
    "    # By default anything over 100,000 points uses datashader to create the scatterplot, while\n",
    "    # plots with fewer points use matplotlib’s scatterplot.\n",
    "    # If DataMapPlot is using datashader then the point-size should be an integer,\n",
    "    # say 0, 1, 2, and possibly 3 at most. If however you are matplotlib scatterplot mode then you\n",
    "    # have a lot more flexibility in the point-size you can use - and in general larger values will\n",
    "    # be required. Experiment and see what works best.\n",
    "    point_size=4,\n",
    "\n",
    "    # Market type. There is only support if you are in matplotlib's scatterplot mode.\n",
    "    # https://matplotlib.org/stable/api/markers_api.html\n",
    "    marker_type=\"o\",\n",
    "\n",
    "    arrowprops={\n",
    "        \"arrowstyle\":\"wedge,tail_width=0.5\",\n",
    "        \"connectionstyle\":\"arc3,rad=0.05\",\n",
    "        \"linewidth\":0,\n",
    "        \"fc\":\"#33333377\"\n",
    "    },\n",
    "\n",
    "    add_glow=True,\n",
    "    # Takes a dictionary of keywords that are passed to the 'add_glow_to_scatterplot' function.\n",
    "    glow_keywords={\n",
    "        \"kernel_bandwidth\": 0.75,  # controls how wide the glow spreads.\n",
    "        \"kernel\": \"cosine\",        # controls the kernel type. Default is \"gaussian\". See https://scikit-learn.org/stable/modules/density.html#kernel-density.\n",
    "        \"n_levels\": 32,            # controls how many \"levels\" there are in the contour plot.\n",
    "        \"max_alpha\": 0.9,          # controls the translucency of the glow.\n",
    "    },\n",
    "\n",
    "    darkmode=False,\n",
    ")\n",
    "\n",
    "plt.tight_layout()\n",
    "\n",
    "# Save the plot as a PDF, png, and svg file.\n",
    "plt.savefig('plot_datamapplot.pdf')\n",
    "plt.savefig('plot_datamapplot.png')\n",
    "plt.savefig('plot_datamapplot.svg')"
   ]
  },
  {
   "cell_type": "code",
   "execution_count": 32,
   "metadata": {
    "scrolled": true
   },
   "outputs": [
    {
     "data": {
      "text/html": [
       "<div>\n",
       "<style scoped>\n",
       "    .dataframe tbody tr th:only-of-type {\n",
       "        vertical-align: middle;\n",
       "    }\n",
       "\n",
       "    .dataframe tbody tr th {\n",
       "        vertical-align: top;\n",
       "    }\n",
       "\n",
       "    .dataframe thead th {\n",
       "        text-align: right;\n",
       "    }\n",
       "</style>\n",
       "<table border=\"1\" class=\"dataframe\">\n",
       "  <thead>\n",
       "    <tr style=\"text-align: right;\">\n",
       "      <th></th>\n",
       "      <th>Topic</th>\n",
       "      <th>Count</th>\n",
       "      <th>Name</th>\n",
       "      <th>Representation</th>\n",
       "      <th>LLM</th>\n",
       "      <th>KeyBERT</th>\n",
       "      <th>Aspect1</th>\n",
       "      <th>Aspect2</th>\n",
       "      <th>Representative_Docs</th>\n",
       "    </tr>\n",
       "  </thead>\n",
       "  <tbody>\n",
       "    <tr>\n",
       "      <th>0</th>\n",
       "      <td>-1</td>\n",
       "      <td>824</td>\n",
       "      <td>-1_cada_cada uno_uno_mes</td>\n",
       "      <td>[cada, cada uno, uno, mes, cada uno anos, uno ...</td>\n",
       "      <td>[Obstrucciones viales\\nQ:\\nPara qué sirven los...</td>\n",
       "      <td>[desglosado mes cada uno anos solicitados, mes...</td>\n",
       "      <td>[mes, anos, tipo, solicitados, numero, desglos...</td>\n",
       "      <td>[desglosado mes cada uno anos solicitados, des...</td>\n",
       "      <td>[informe numero quejas o denuncias presentaron...</td>\n",
       "    </tr>\n",
       "    <tr>\n",
       "      <th>1</th>\n",
       "      <td>0</td>\n",
       "      <td>5529</td>\n",
       "      <td>0_informacion_municipio_ayuntamiento_municipal</td>\n",
       "      <td>[informacion, municipio, ayuntamiento, municip...</td>\n",
       "      <td>[Etiqueta: Ayuntamiento Municipal Publica Cier...</td>\n",
       "      <td>[administracion, transparencia acceso informac...</td>\n",
       "      <td>[informacion, municipio, ayuntamiento, municip...</td>\n",
       "      <td>[administracion, transparencia acceso informac...</td>\n",
       "      <td>[h. ayuntamiento municipio presente suscrito e...</td>\n",
       "    </tr>\n",
       "    <tr>\n",
       "      <th>2</th>\n",
       "      <td>1</td>\n",
       "      <td>224</td>\n",
       "      <td>1_adjudicacion_contrato_contrato prestador_pre...</td>\n",
       "      <td>[adjudicacion, contrato, contrato prestador, p...</td>\n",
       "      <td>[Contratos de Adjudicación\\n\\nLa descripción d...</td>\n",
       "      <td>[adjudicacion licitacion publica nacional nume...</td>\n",
       "      <td>[adjudicacion, contrato, prestador, forma, ser...</td>\n",
       "      <td>[forma adjudicacion licitacion publica naciona...</td>\n",
       "      <td>[h. ayuntamiento municipio presente suscrito c...</td>\n",
       "    </tr>\n",
       "    <tr>\n",
       "      <th>3</th>\n",
       "      <td>2</td>\n",
       "      <td>160</td>\n",
       "      <td>2_sueldo_diputado_distrito_sueldo diputado</td>\n",
       "      <td>[sueldo, diputado, distrito, sueldo diputado, ...</td>\n",
       "      <td>[Sueldos políticos distritales\\n\\nExplicacion:...</td>\n",
       "      <td>[sueldo diputado federal sueldo senador, local...</td>\n",
       "      <td>[sueldo, diputado, distrito, senador, local, f...</td>\n",
       "      <td>[sueldo diputado federal sueldo senador, local...</td>\n",
       "      <td>[sueldo diputado local distrito sueldo diputad...</td>\n",
       "    </tr>\n",
       "    <tr>\n",
       "      <th>4</th>\n",
       "      <td>3</td>\n",
       "      <td>132</td>\n",
       "      <td>3_restaurante_bar_restaurante bar_botella</td>\n",
       "      <td>[restaurante, bar, restaurante bar, botella, a...</td>\n",
       "      <td>[Restaurantes y Bares\\n\\n10, , , , , , , , , ]</td>\n",
       "      <td>[banos publicos venta cerveza botella, fracto ...</td>\n",
       "      <td>[restaurante, bar, restaurante bar, abierta, c...</td>\n",
       "      <td>[banos publicos venta cerveza botella, publico...</td>\n",
       "      <td>[simple siguiente informacion: 1.-solicito sim...</td>\n",
       "    </tr>\n",
       "    <tr>\n",
       "      <th>5</th>\n",
       "      <td>4</td>\n",
       "      <td>125</td>\n",
       "      <td>4_obra_publica_numero obra_smimp 2022</td>\n",
       "      <td>[obra, publica, numero obra, smimp 2022, smimp...</td>\n",
       "      <td>[\"Obra pública, SMIMP 2022, contrat, , , , , ,...</td>\n",
       "      <td>[recepcion entregables contrato obra publica, ...</td>\n",
       "      <td>[obra, publica, contrato, numero, relacion, ac...</td>\n",
       "      <td>[recepcion entregables contrato obra publica, ...</td>\n",
       "      <td>[h. ayuntamiento municipio presente suscrito c...</td>\n",
       "    </tr>\n",
       "    <tr>\n",
       "      <th>6</th>\n",
       "      <td>5</td>\n",
       "      <td>110</td>\n",
       "      <td>5_png_simple_licencia funcionamiento documento...</td>\n",
       "      <td>[png, simple, licencia funcionamiento document...</td>\n",
       "      <td>[Licencias y documentos de funcionamiento para...</td>\n",
       "      <td>[simple documentacion aporto propietario espec...</td>\n",
       "      <td>[simple, simple documentacion, propietario, es...</td>\n",
       "      <td>[simple documentacion aporto propietario espec...</td>\n",
       "      <td>[informacion solicitada adjunto: image1.png im...</td>\n",
       "    </tr>\n",
       "    <tr>\n",
       "      <th>7</th>\n",
       "      <td>6</td>\n",
       "      <td>99</td>\n",
       "      <td>6_solicitar testigos fotos_testigos fotos_soli...</td>\n",
       "      <td>[solicitar testigos fotos, testigos fotos, sol...</td>\n",
       "      <td>[\"Solicitar Testigos, Fotos y Facturas\", , , ,...</td>\n",
       "      <td>[realizacion contrato permito solicitar testig...</td>\n",
       "      <td>[fotos, testigos, materiales, lista, realizaci...</td>\n",
       "      <td>[realizacion contrato permito solicitar testig...</td>\n",
       "      <td>[permito solicitar testigos, fotos, facturas y...</td>\n",
       "    </tr>\n",
       "    <tr>\n",
       "      <th>8</th>\n",
       "      <td>7</td>\n",
       "      <td>94</td>\n",
       "      <td>7_simple_simple dictamen_dictamen_articulos</td>\n",
       "      <td>[simple, simple dictamen, dictamen, articulos,...</td>\n",
       "      <td>[\"Licencias y certificados de seguridad\", , , ...</td>\n",
       "      <td>[funcionamiento simple dictamen proteccion civ...</td>\n",
       "      <td>[simple, simple dictamen, dictamen, articulos,...</td>\n",
       "      <td>[funcionamiento simple dictamen proteccion civ...</td>\n",
       "      <td>[solicitud adjunto: image1.png medio presente ...</td>\n",
       "    </tr>\n",
       "    <tr>\n",
       "      <th>9</th>\n",
       "      <td>8</td>\n",
       "      <td>70</td>\n",
       "      <td>8_cada_cada uno_uno_mes cada</td>\n",
       "      <td>[cada, cada uno, uno, mes cada, desglosado mes...</td>\n",
       "      <td>[Estadísticas por mes sobre maltrato a adultos...</td>\n",
       "      <td>[desglosado mes cada uno anos solicitados, cas...</td>\n",
       "      <td>[desglosado mes, mes, desglosado, anos, solici...</td>\n",
       "      <td>[desglosado mes cada uno anos solicitados, cas...</td>\n",
       "      <td>[anexo solicitud adjunto: informe numero denun...</td>\n",
       "    </tr>\n",
       "    <tr>\n",
       "      <th>10</th>\n",
       "      <td>9</td>\n",
       "      <td>63</td>\n",
       "      <td>9_informacion_articulos_simple_png medio prese...</td>\n",
       "      <td>[informacion, articulos, simple, png medio pre...</td>\n",
       "      <td>[Imágen y verificación ambiental , , , , , , ,...</td>\n",
       "      <td>[aplicables ley transparencia acceso informaci...</td>\n",
       "      <td>[informacion, articulos, simple, aplicables le...</td>\n",
       "      <td>[presente escrito base dispuesto articulos 62,...</td>\n",
       "      <td>[informacion solicitada adjunto: image1.png me...</td>\n",
       "    </tr>\n",
       "    <tr>\n",
       "      <th>11</th>\n",
       "      <td>10</td>\n",
       "      <td>61</td>\n",
       "      <td>10_quehacer gubernamental ayuntamiento municip...</td>\n",
       "      <td>[quehacer gubernamental ayuntamiento municipio...</td>\n",
       "      <td>[Quehacer Gubernamental Ayuntamiento Municipio...</td>\n",
       "      <td>[contrato publicacion difusion quehacer gubern...</td>\n",
       "      <td>[publica contrato, quehacer, gubernamental, di...</td>\n",
       "      <td>[publicacion difusion quehacer gubernamental a...</td>\n",
       "      <td>[version publica contrato publicacion y difusi...</td>\n",
       "    </tr>\n",
       "    <tr>\n",
       "      <th>12</th>\n",
       "      <td>11</td>\n",
       "      <td>56</td>\n",
       "      <td>11_animal_animales_perros_cuantos</td>\n",
       "      <td>[animal, animales, perros, cuantos, proteccion...</td>\n",
       "      <td>[Animal Protección, Animal Abandono, Animal Ma...</td>\n",
       "      <td>[animales ingresados, desglosado mes cada uno ...</td>\n",
       "      <td>[animal, animales, perros, proteccion, maltrat...</td>\n",
       "      <td>[animales ingresados, desglosado mes cada uno ...</td>\n",
       "      <td>[informe numero animales ingresaron a resguard...</td>\n",
       "    </tr>\n",
       "  </tbody>\n",
       "</table>\n",
       "</div>"
      ],
      "text/plain": [
       "    Topic  Count                                               Name  \\\n",
       "0      -1    824                           -1_cada_cada uno_uno_mes   \n",
       "1       0   5529     0_informacion_municipio_ayuntamiento_municipal   \n",
       "2       1    224  1_adjudicacion_contrato_contrato prestador_pre...   \n",
       "3       2    160         2_sueldo_diputado_distrito_sueldo diputado   \n",
       "4       3    132          3_restaurante_bar_restaurante bar_botella   \n",
       "5       4    125              4_obra_publica_numero obra_smimp 2022   \n",
       "6       5    110  5_png_simple_licencia funcionamiento documento...   \n",
       "7       6     99  6_solicitar testigos fotos_testigos fotos_soli...   \n",
       "8       7     94        7_simple_simple dictamen_dictamen_articulos   \n",
       "9       8     70                       8_cada_cada uno_uno_mes cada   \n",
       "10      9     63  9_informacion_articulos_simple_png medio prese...   \n",
       "11     10     61  10_quehacer gubernamental ayuntamiento municip...   \n",
       "12     11     56                  11_animal_animales_perros_cuantos   \n",
       "\n",
       "                                       Representation  \\\n",
       "0   [cada, cada uno, uno, mes, cada uno anos, uno ...   \n",
       "1   [informacion, municipio, ayuntamiento, municip...   \n",
       "2   [adjudicacion, contrato, contrato prestador, p...   \n",
       "3   [sueldo, diputado, distrito, sueldo diputado, ...   \n",
       "4   [restaurante, bar, restaurante bar, botella, a...   \n",
       "5   [obra, publica, numero obra, smimp 2022, smimp...   \n",
       "6   [png, simple, licencia funcionamiento document...   \n",
       "7   [solicitar testigos fotos, testigos fotos, sol...   \n",
       "8   [simple, simple dictamen, dictamen, articulos,...   \n",
       "9   [cada, cada uno, uno, mes cada, desglosado mes...   \n",
       "10  [informacion, articulos, simple, png medio pre...   \n",
       "11  [quehacer gubernamental ayuntamiento municipio...   \n",
       "12  [animal, animales, perros, cuantos, proteccion...   \n",
       "\n",
       "                                                  LLM  \\\n",
       "0   [Obstrucciones viales\\nQ:\\nPara qué sirven los...   \n",
       "1   [Etiqueta: Ayuntamiento Municipal Publica Cier...   \n",
       "2   [Contratos de Adjudicación\\n\\nLa descripción d...   \n",
       "3   [Sueldos políticos distritales\\n\\nExplicacion:...   \n",
       "4      [Restaurantes y Bares\\n\\n10, , , , , , , , , ]   \n",
       "5   [\"Obra pública, SMIMP 2022, contrat, , , , , ,...   \n",
       "6   [Licencias y documentos de funcionamiento para...   \n",
       "7   [\"Solicitar Testigos, Fotos y Facturas\", , , ,...   \n",
       "8   [\"Licencias y certificados de seguridad\", , , ...   \n",
       "9   [Estadísticas por mes sobre maltrato a adultos...   \n",
       "10  [Imágen y verificación ambiental , , , , , , ,...   \n",
       "11  [Quehacer Gubernamental Ayuntamiento Municipio...   \n",
       "12  [Animal Protección, Animal Abandono, Animal Ma...   \n",
       "\n",
       "                                              KeyBERT  \\\n",
       "0   [desglosado mes cada uno anos solicitados, mes...   \n",
       "1   [administracion, transparencia acceso informac...   \n",
       "2   [adjudicacion licitacion publica nacional nume...   \n",
       "3   [sueldo diputado federal sueldo senador, local...   \n",
       "4   [banos publicos venta cerveza botella, fracto ...   \n",
       "5   [recepcion entregables contrato obra publica, ...   \n",
       "6   [simple documentacion aporto propietario espec...   \n",
       "7   [realizacion contrato permito solicitar testig...   \n",
       "8   [funcionamiento simple dictamen proteccion civ...   \n",
       "9   [desglosado mes cada uno anos solicitados, cas...   \n",
       "10  [aplicables ley transparencia acceso informaci...   \n",
       "11  [contrato publicacion difusion quehacer gubern...   \n",
       "12  [animales ingresados, desglosado mes cada uno ...   \n",
       "\n",
       "                                              Aspect1  \\\n",
       "0   [mes, anos, tipo, solicitados, numero, desglos...   \n",
       "1   [informacion, municipio, ayuntamiento, municip...   \n",
       "2   [adjudicacion, contrato, prestador, forma, ser...   \n",
       "3   [sueldo, diputado, distrito, senador, local, f...   \n",
       "4   [restaurante, bar, restaurante bar, abierta, c...   \n",
       "5   [obra, publica, contrato, numero, relacion, ac...   \n",
       "6   [simple, simple documentacion, propietario, es...   \n",
       "7   [fotos, testigos, materiales, lista, realizaci...   \n",
       "8   [simple, simple dictamen, dictamen, articulos,...   \n",
       "9   [desglosado mes, mes, desglosado, anos, solici...   \n",
       "10  [informacion, articulos, simple, aplicables le...   \n",
       "11  [publica contrato, quehacer, gubernamental, di...   \n",
       "12  [animal, animales, perros, proteccion, maltrat...   \n",
       "\n",
       "                                              Aspect2  \\\n",
       "0   [desglosado mes cada uno anos solicitados, des...   \n",
       "1   [administracion, transparencia acceso informac...   \n",
       "2   [forma adjudicacion licitacion publica naciona...   \n",
       "3   [sueldo diputado federal sueldo senador, local...   \n",
       "4   [banos publicos venta cerveza botella, publico...   \n",
       "5   [recepcion entregables contrato obra publica, ...   \n",
       "6   [simple documentacion aporto propietario espec...   \n",
       "7   [realizacion contrato permito solicitar testig...   \n",
       "8   [funcionamiento simple dictamen proteccion civ...   \n",
       "9   [desglosado mes cada uno anos solicitados, cas...   \n",
       "10  [presente escrito base dispuesto articulos 62,...   \n",
       "11  [publicacion difusion quehacer gubernamental a...   \n",
       "12  [animales ingresados, desglosado mes cada uno ...   \n",
       "\n",
       "                                  Representative_Docs  \n",
       "0   [informe numero quejas o denuncias presentaron...  \n",
       "1   [h. ayuntamiento municipio presente suscrito e...  \n",
       "2   [h. ayuntamiento municipio presente suscrito c...  \n",
       "3   [sueldo diputado local distrito sueldo diputad...  \n",
       "4   [simple siguiente informacion: 1.-solicito sim...  \n",
       "5   [h. ayuntamiento municipio presente suscrito c...  \n",
       "6   [informacion solicitada adjunto: image1.png im...  \n",
       "7   [permito solicitar testigos, fotos, facturas y...  \n",
       "8   [solicitud adjunto: image1.png medio presente ...  \n",
       "9   [anexo solicitud adjunto: informe numero denun...  \n",
       "10  [informacion solicitada adjunto: image1.png me...  \n",
       "11  [version publica contrato publicacion y difusi...  \n",
       "12  [informe numero animales ingresaron a resguard...  "
      ]
     },
     "execution_count": 32,
     "metadata": {},
     "output_type": "execute_result"
    }
   ],
   "source": [
    "topic_model.get_topic_info()"
   ]
  },
  {
   "cell_type": "code",
   "execution_count": 33,
   "metadata": {},
   "outputs": [],
   "source": [
    "df = topic_model.get_document_info(docs)\n",
    "import pandas as pd\n",
    "se = pd.Series(dataset[\"train\"][\"folio_unico\"])\n",
    "df['folio'] = se.values\n",
    "df.to_csv('dataframe_bertopic2.csv')"
   ]
  },
  {
   "cell_type": "code",
   "execution_count": 34,
   "metadata": {},
   "outputs": [],
   "source": [
    "intertopic_distance_fig = topic_model.visualize_topics()\n",
    "intertopic_distance_fig.write_html('intertopic_distance_fig.html')"
   ]
  },
  {
   "cell_type": "code",
   "execution_count": 35,
   "metadata": {},
   "outputs": [],
   "source": [
    "docs_fig = topic_model.visualize_documents(docs, reduced_embeddings=reduced_embeddings)\n",
    "docs_fig.write_html('document_and_topics.html')"
   ]
  },
  {
   "cell_type": "code",
   "execution_count": 36,
   "metadata": {},
   "outputs": [
    {
     "name": "stderr",
     "output_type": "stream",
     "text": [
      "100%|██████████████████████████████████████████████████████████████████████████████████████████████████████████████████████████████████████████████████████████████████████████████████| 1/1 [00:01<00:00,  1.59s/it]\n"
     ]
    }
   ],
   "source": [
    "# Reduce all outliers that are left with the \"distributions\" strategy\n",
    "new_topics = topic_model.reduce_outliers(docs, topics, strategy=\"distributions\")"
   ]
  },
  {
   "cell_type": "code",
   "execution_count": 37,
   "metadata": {},
   "outputs": [
    {
     "name": "stderr",
     "output_type": "stream",
     "text": [
      "2024-07-17 10:35:23,561 - BERTopic - WARNING: Using a custom list of topic assignments may lead to errors if topic reduction techniques are used afterwards. Make sure that manually assigning topics is the last step in the pipeline.Note that topic embeddings will also be created through weightedc-TF-IDF embeddings instead of centroid embeddings.\n"
     ]
    }
   ],
   "source": [
    "topic_model.update_topics(docs, topics=new_topics)"
   ]
  },
  {
   "cell_type": "code",
   "execution_count": 38,
   "metadata": {},
   "outputs": [
    {
     "data": {
      "text/html": [
       "<div>\n",
       "<style scoped>\n",
       "    .dataframe tbody tr th:only-of-type {\n",
       "        vertical-align: middle;\n",
       "    }\n",
       "\n",
       "    .dataframe tbody tr th {\n",
       "        vertical-align: top;\n",
       "    }\n",
       "\n",
       "    .dataframe thead th {\n",
       "        text-align: right;\n",
       "    }\n",
       "</style>\n",
       "<table border=\"1\" class=\"dataframe\">\n",
       "  <thead>\n",
       "    <tr style=\"text-align: right;\">\n",
       "      <th></th>\n",
       "      <th>Topic</th>\n",
       "      <th>Count</th>\n",
       "      <th>Name</th>\n",
       "      <th>Representation</th>\n",
       "      <th>LLM</th>\n",
       "      <th>KeyBERT</th>\n",
       "      <th>Aspect1</th>\n",
       "      <th>Aspect2</th>\n",
       "      <th>Representative_Docs</th>\n",
       "    </tr>\n",
       "  </thead>\n",
       "  <tbody>\n",
       "    <tr>\n",
       "      <th>0</th>\n",
       "      <td>-1</td>\n",
       "      <td>37</td>\n",
       "      <td>-1____</td>\n",
       "      <td>[, , , , , , , , , ]</td>\n",
       "      <td>[Obstrucciones viales\\nQ:\\nPara qué sirven los...</td>\n",
       "      <td>[desglosado mes cada uno anos solicitados, mes...</td>\n",
       "      <td>[mes, anos, tipo, solicitados, numero, desglos...</td>\n",
       "      <td>[desglosado mes cada uno anos solicitados, des...</td>\n",
       "      <td>[informe numero quejas o denuncias presentaron...</td>\n",
       "    </tr>\n",
       "    <tr>\n",
       "      <th>1</th>\n",
       "      <td>0</td>\n",
       "      <td>5961</td>\n",
       "      <td>0_informacion_municipio_ayuntamiento_municipal</td>\n",
       "      <td>[informacion, municipio, ayuntamiento, municip...</td>\n",
       "      <td>[Etiqueta: Ayuntamiento Municipal Publica Cier...</td>\n",
       "      <td>[administracion, transparencia acceso informac...</td>\n",
       "      <td>[informacion, municipio, ayuntamiento, municip...</td>\n",
       "      <td>[administracion, transparencia acceso informac...</td>\n",
       "      <td>[h. ayuntamiento municipio presente suscrito e...</td>\n",
       "    </tr>\n",
       "    <tr>\n",
       "      <th>2</th>\n",
       "      <td>1</td>\n",
       "      <td>237</td>\n",
       "      <td>1_adjudicacion_prestador_cma_erp</td>\n",
       "      <td>[adjudicacion, prestador, cma, erp, contrato, ...</td>\n",
       "      <td>[Contratos de Adjudicación\\n\\nLa descripción d...</td>\n",
       "      <td>[adjudicacion licitacion publica nacional nume...</td>\n",
       "      <td>[adjudicacion, contrato, prestador, forma, ser...</td>\n",
       "      <td>[forma adjudicacion licitacion publica naciona...</td>\n",
       "      <td>[h. ayuntamiento municipio presente suscrito c...</td>\n",
       "    </tr>\n",
       "    <tr>\n",
       "      <th>3</th>\n",
       "      <td>2</td>\n",
       "      <td>165</td>\n",
       "      <td>2_sueldo_diputado_distrito_senador</td>\n",
       "      <td>[sueldo, diputado, distrito, senador, local, f...</td>\n",
       "      <td>[Sueldos políticos distritales\\n\\nExplicacion:...</td>\n",
       "      <td>[sueldo diputado federal sueldo senador, local...</td>\n",
       "      <td>[sueldo, diputado, distrito, senador, local, f...</td>\n",
       "      <td>[sueldo diputado federal sueldo senador, local...</td>\n",
       "      <td>[sueldo diputado local distrito sueldo diputad...</td>\n",
       "    </tr>\n",
       "    <tr>\n",
       "      <th>4</th>\n",
       "      <td>3</td>\n",
       "      <td>134</td>\n",
       "      <td>3_restaurante_bar_botella_abierta</td>\n",
       "      <td>[restaurante, bar, botella, abierta, cerveza, ...</td>\n",
       "      <td>[Restaurantes y Bares\\n\\n10, , , , , , , , , ]</td>\n",
       "      <td>[banos publicos venta cerveza botella, fracto ...</td>\n",
       "      <td>[restaurante, bar, restaurante bar, abierta, c...</td>\n",
       "      <td>[banos publicos venta cerveza botella, publico...</td>\n",
       "      <td>[simple siguiente informacion: 1.-solicito sim...</td>\n",
       "    </tr>\n",
       "    <tr>\n",
       "      <th>5</th>\n",
       "      <td>4</td>\n",
       "      <td>125</td>\n",
       "      <td>4_obra_smimp_op_publica</td>\n",
       "      <td>[obra, smimp, op, publica, contrato, 2022, num...</td>\n",
       "      <td>[\"Obra pública, SMIMP 2022, contrat, , , , , ,...</td>\n",
       "      <td>[recepcion entregables contrato obra publica, ...</td>\n",
       "      <td>[obra, publica, contrato, numero, relacion, ac...</td>\n",
       "      <td>[recepcion entregables contrato obra publica, ...</td>\n",
       "      <td>[h. ayuntamiento municipio presente suscrito c...</td>\n",
       "    </tr>\n",
       "    <tr>\n",
       "      <th>6</th>\n",
       "      <td>5</td>\n",
       "      <td>119</td>\n",
       "      <td>5_png_publicitar_aporto_image2</td>\n",
       "      <td>[png, publicitar, aporto, image2, obtuvo, prop...</td>\n",
       "      <td>[Licencias y documentos de funcionamiento para...</td>\n",
       "      <td>[simple documentacion aporto propietario espec...</td>\n",
       "      <td>[simple, simple documentacion, propietario, es...</td>\n",
       "      <td>[simple documentacion aporto propietario espec...</td>\n",
       "      <td>[informacion solicitada adjunto: image1.png im...</td>\n",
       "    </tr>\n",
       "    <tr>\n",
       "      <th>7</th>\n",
       "      <td>6</td>\n",
       "      <td>134</td>\n",
       "      <td>6_fotos_testigos_permito_dado</td>\n",
       "      <td>[fotos, testigos, permito, dado, utilizados, m...</td>\n",
       "      <td>[\"Solicitar Testigos, Fotos y Facturas\", , , ,...</td>\n",
       "      <td>[realizacion contrato permito solicitar testig...</td>\n",
       "      <td>[fotos, testigos, materiales, lista, realizaci...</td>\n",
       "      <td>[realizacion contrato permito solicitar testig...</td>\n",
       "      <td>[permito solicitar testigos, fotos, facturas y...</td>\n",
       "    </tr>\n",
       "    <tr>\n",
       "      <th>8</th>\n",
       "      <td>7</td>\n",
       "      <td>96</td>\n",
       "      <td>7_simple_dictamen_articulos_certifica</td>\n",
       "      <td>[simple, dictamen, articulos, certifica, parar...</td>\n",
       "      <td>[\"Licencias y certificados de seguridad\", , , ...</td>\n",
       "      <td>[funcionamiento simple dictamen proteccion civ...</td>\n",
       "      <td>[simple, simple dictamen, dictamen, articulos,...</td>\n",
       "      <td>[funcionamiento simple dictamen proteccion civ...</td>\n",
       "      <td>[solicitud adjunto: image1.png medio presente ...</td>\n",
       "    </tr>\n",
       "    <tr>\n",
       "      <th>9</th>\n",
       "      <td>8</td>\n",
       "      <td>326</td>\n",
       "      <td>8_uno_cada_mes_solicitados</td>\n",
       "      <td>[uno, cada, mes, solicitados, anos, desglosado...</td>\n",
       "      <td>[Estadísticas por mes sobre maltrato a adultos...</td>\n",
       "      <td>[desglosado mes cada uno anos solicitados, cas...</td>\n",
       "      <td>[desglosado mes, mes, desglosado, anos, solici...</td>\n",
       "      <td>[desglosado mes cada uno anos solicitados, cas...</td>\n",
       "      <td>[anexo solicitud adjunto: informe numero denun...</td>\n",
       "    </tr>\n",
       "    <tr>\n",
       "      <th>10</th>\n",
       "      <td>9</td>\n",
       "      <td>95</td>\n",
       "      <td>9_articulos_simple_informacion_62</td>\n",
       "      <td>[articulos, simple, informacion, 62, 8avo, esc...</td>\n",
       "      <td>[Imágen y verificación ambiental , , , , , , ,...</td>\n",
       "      <td>[aplicables ley transparencia acceso informaci...</td>\n",
       "      <td>[informacion, articulos, simple, aplicables le...</td>\n",
       "      <td>[presente escrito base dispuesto articulos 62,...</td>\n",
       "      <td>[informacion solicitada adjunto: image1.png me...</td>\n",
       "    </tr>\n",
       "    <tr>\n",
       "      <th>11</th>\n",
       "      <td>10</td>\n",
       "      <td>62</td>\n",
       "      <td>10_quehacer_gubernamental_difusion_publicacion</td>\n",
       "      <td>[quehacer, gubernamental, difusion, publicacio...</td>\n",
       "      <td>[Quehacer Gubernamental Ayuntamiento Municipio...</td>\n",
       "      <td>[contrato publicacion difusion quehacer gubern...</td>\n",
       "      <td>[publica contrato, quehacer, gubernamental, di...</td>\n",
       "      <td>[publicacion difusion quehacer gubernamental a...</td>\n",
       "      <td>[version publica contrato publicacion y difusi...</td>\n",
       "    </tr>\n",
       "    <tr>\n",
       "      <th>12</th>\n",
       "      <td>11</td>\n",
       "      <td>56</td>\n",
       "      <td>11_animal_animales_perros_cuantos</td>\n",
       "      <td>[animal, animales, perros, cuantos, maltrato, ...</td>\n",
       "      <td>[Animal Protección, Animal Abandono, Animal Ma...</td>\n",
       "      <td>[animales ingresados, desglosado mes cada uno ...</td>\n",
       "      <td>[animal, animales, perros, proteccion, maltrat...</td>\n",
       "      <td>[animales ingresados, desglosado mes cada uno ...</td>\n",
       "      <td>[informe numero animales ingresaron a resguard...</td>\n",
       "    </tr>\n",
       "  </tbody>\n",
       "</table>\n",
       "</div>"
      ],
      "text/plain": [
       "    Topic  Count                                            Name  \\\n",
       "0      -1     37                                          -1____   \n",
       "1       0   5961  0_informacion_municipio_ayuntamiento_municipal   \n",
       "2       1    237                1_adjudicacion_prestador_cma_erp   \n",
       "3       2    165              2_sueldo_diputado_distrito_senador   \n",
       "4       3    134               3_restaurante_bar_botella_abierta   \n",
       "5       4    125                         4_obra_smimp_op_publica   \n",
       "6       5    119                  5_png_publicitar_aporto_image2   \n",
       "7       6    134                   6_fotos_testigos_permito_dado   \n",
       "8       7     96           7_simple_dictamen_articulos_certifica   \n",
       "9       8    326                      8_uno_cada_mes_solicitados   \n",
       "10      9     95               9_articulos_simple_informacion_62   \n",
       "11     10     62  10_quehacer_gubernamental_difusion_publicacion   \n",
       "12     11     56               11_animal_animales_perros_cuantos   \n",
       "\n",
       "                                       Representation  \\\n",
       "0                                [, , , , , , , , , ]   \n",
       "1   [informacion, municipio, ayuntamiento, municip...   \n",
       "2   [adjudicacion, prestador, cma, erp, contrato, ...   \n",
       "3   [sueldo, diputado, distrito, senador, local, f...   \n",
       "4   [restaurante, bar, botella, abierta, cerveza, ...   \n",
       "5   [obra, smimp, op, publica, contrato, 2022, num...   \n",
       "6   [png, publicitar, aporto, image2, obtuvo, prop...   \n",
       "7   [fotos, testigos, permito, dado, utilizados, m...   \n",
       "8   [simple, dictamen, articulos, certifica, parar...   \n",
       "9   [uno, cada, mes, solicitados, anos, desglosado...   \n",
       "10  [articulos, simple, informacion, 62, 8avo, esc...   \n",
       "11  [quehacer, gubernamental, difusion, publicacio...   \n",
       "12  [animal, animales, perros, cuantos, maltrato, ...   \n",
       "\n",
       "                                                  LLM  \\\n",
       "0   [Obstrucciones viales\\nQ:\\nPara qué sirven los...   \n",
       "1   [Etiqueta: Ayuntamiento Municipal Publica Cier...   \n",
       "2   [Contratos de Adjudicación\\n\\nLa descripción d...   \n",
       "3   [Sueldos políticos distritales\\n\\nExplicacion:...   \n",
       "4      [Restaurantes y Bares\\n\\n10, , , , , , , , , ]   \n",
       "5   [\"Obra pública, SMIMP 2022, contrat, , , , , ,...   \n",
       "6   [Licencias y documentos de funcionamiento para...   \n",
       "7   [\"Solicitar Testigos, Fotos y Facturas\", , , ,...   \n",
       "8   [\"Licencias y certificados de seguridad\", , , ...   \n",
       "9   [Estadísticas por mes sobre maltrato a adultos...   \n",
       "10  [Imágen y verificación ambiental , , , , , , ,...   \n",
       "11  [Quehacer Gubernamental Ayuntamiento Municipio...   \n",
       "12  [Animal Protección, Animal Abandono, Animal Ma...   \n",
       "\n",
       "                                              KeyBERT  \\\n",
       "0   [desglosado mes cada uno anos solicitados, mes...   \n",
       "1   [administracion, transparencia acceso informac...   \n",
       "2   [adjudicacion licitacion publica nacional nume...   \n",
       "3   [sueldo diputado federal sueldo senador, local...   \n",
       "4   [banos publicos venta cerveza botella, fracto ...   \n",
       "5   [recepcion entregables contrato obra publica, ...   \n",
       "6   [simple documentacion aporto propietario espec...   \n",
       "7   [realizacion contrato permito solicitar testig...   \n",
       "8   [funcionamiento simple dictamen proteccion civ...   \n",
       "9   [desglosado mes cada uno anos solicitados, cas...   \n",
       "10  [aplicables ley transparencia acceso informaci...   \n",
       "11  [contrato publicacion difusion quehacer gubern...   \n",
       "12  [animales ingresados, desglosado mes cada uno ...   \n",
       "\n",
       "                                              Aspect1  \\\n",
       "0   [mes, anos, tipo, solicitados, numero, desglos...   \n",
       "1   [informacion, municipio, ayuntamiento, municip...   \n",
       "2   [adjudicacion, contrato, prestador, forma, ser...   \n",
       "3   [sueldo, diputado, distrito, senador, local, f...   \n",
       "4   [restaurante, bar, restaurante bar, abierta, c...   \n",
       "5   [obra, publica, contrato, numero, relacion, ac...   \n",
       "6   [simple, simple documentacion, propietario, es...   \n",
       "7   [fotos, testigos, materiales, lista, realizaci...   \n",
       "8   [simple, simple dictamen, dictamen, articulos,...   \n",
       "9   [desglosado mes, mes, desglosado, anos, solici...   \n",
       "10  [informacion, articulos, simple, aplicables le...   \n",
       "11  [publica contrato, quehacer, gubernamental, di...   \n",
       "12  [animal, animales, perros, proteccion, maltrat...   \n",
       "\n",
       "                                              Aspect2  \\\n",
       "0   [desglosado mes cada uno anos solicitados, des...   \n",
       "1   [administracion, transparencia acceso informac...   \n",
       "2   [forma adjudicacion licitacion publica naciona...   \n",
       "3   [sueldo diputado federal sueldo senador, local...   \n",
       "4   [banos publicos venta cerveza botella, publico...   \n",
       "5   [recepcion entregables contrato obra publica, ...   \n",
       "6   [simple documentacion aporto propietario espec...   \n",
       "7   [realizacion contrato permito solicitar testig...   \n",
       "8   [funcionamiento simple dictamen proteccion civ...   \n",
       "9   [desglosado mes cada uno anos solicitados, cas...   \n",
       "10  [presente escrito base dispuesto articulos 62,...   \n",
       "11  [publicacion difusion quehacer gubernamental a...   \n",
       "12  [animales ingresados, desglosado mes cada uno ...   \n",
       "\n",
       "                                  Representative_Docs  \n",
       "0   [informe numero quejas o denuncias presentaron...  \n",
       "1   [h. ayuntamiento municipio presente suscrito e...  \n",
       "2   [h. ayuntamiento municipio presente suscrito c...  \n",
       "3   [sueldo diputado local distrito sueldo diputad...  \n",
       "4   [simple siguiente informacion: 1.-solicito sim...  \n",
       "5   [h. ayuntamiento municipio presente suscrito c...  \n",
       "6   [informacion solicitada adjunto: image1.png im...  \n",
       "7   [permito solicitar testigos, fotos, facturas y...  \n",
       "8   [solicitud adjunto: image1.png medio presente ...  \n",
       "9   [anexo solicitud adjunto: informe numero denun...  \n",
       "10  [informacion solicitada adjunto: image1.png me...  \n",
       "11  [version publica contrato publicacion y difusi...  \n",
       "12  [informe numero animales ingresaron a resguard...  "
      ]
     },
     "execution_count": 38,
     "metadata": {},
     "output_type": "execute_result"
    }
   ],
   "source": [
    "topic_model.get_topic_info()"
   ]
  }
 ],
 "metadata": {
  "accelerator": "GPU",
  "colab": {
   "gpuType": "T4",
   "provenance": []
  },
  "kernelspec": {
   "display_name": "Python 3 (ipykernel)",
   "language": "python",
   "name": "python3"
  },
  "language_info": {
   "codemirror_mode": {
    "name": "ipython",
    "version": 3
   },
   "file_extension": ".py",
   "mimetype": "text/x-python",
   "name": "python",
   "nbconvert_exporter": "python",
   "pygments_lexer": "ipython3",
   "version": "3.10.12"
  }
 },
 "nbformat": 4,
 "nbformat_minor": 4
}
